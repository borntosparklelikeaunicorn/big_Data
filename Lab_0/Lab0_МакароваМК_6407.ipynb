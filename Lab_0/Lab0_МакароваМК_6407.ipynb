{
  "nbformat": 4,
  "nbformat_minor": 0,
  "metadata": {
    "colab": {
      "provenance": []
    },
    "kernelspec": {
      "name": "python3",
      "display_name": "Python 3"
    }
  },
  "cells": [
    {
      "cell_type": "markdown",
      "metadata": {
        "id": "82OvPKEiEqjc"
      },
      "source": [
        "# Введение в MapReduce модель на Python\n"
      ]
    },
    {
      "cell_type": "code",
      "metadata": {
        "id": "JQ2cvXLjICmI"
      },
      "source": [
        "from typing import NamedTuple # requires python 3.6+\n",
        "from typing import Iterator"
      ],
      "execution_count": 79,
      "outputs": []
    },
    {
      "cell_type": "code",
      "metadata": {
        "id": "yjPHumVwEyEg"
      },
      "source": [
        "def MAP(_, row:NamedTuple):\n",
        "  if (row.gender == 'female'):\n",
        "    yield (row.age, row)\n",
        "\n",
        "def REDUCE(age:str, rows:Iterator[NamedTuple]):\n",
        "  sum = 0\n",
        "  count = 0\n",
        "  for row in rows:\n",
        "    sum += row.social_contacts\n",
        "    count += 1\n",
        "  if (count > 0):\n",
        "    yield (age, sum/count)\n",
        "  else:\n",
        "    yield (age, 0)"
      ],
      "execution_count": 80,
      "outputs": []
    },
    {
      "cell_type": "markdown",
      "metadata": {
        "id": "vBKMgpG_ilaZ"
      },
      "source": [
        "Модель элемента данных"
      ]
    },
    {
      "cell_type": "code",
      "metadata": {
        "id": "Rv-XIjhTJPx3"
      },
      "source": [
        "class User(NamedTuple):\n",
        "  id: int\n",
        "  age: str\n",
        "  social_contacts: int\n",
        "  gender: str"
      ],
      "execution_count": 81,
      "outputs": []
    },
    {
      "cell_type": "code",
      "metadata": {
        "id": "5KV0Ze2vQgu5"
      },
      "source": [
        "input_collection = [\n",
        "    User(id=0, age=55, gender='male', social_contacts=20),\n",
        "    User(id=1, age=25, gender='female', social_contacts=240),\n",
        "    User(id=2, age=25, gender='female', social_contacts=500),\n",
        "    User(id=3, age=33, gender='female', social_contacts=800)\n",
        "]"
      ],
      "execution_count": 82,
      "outputs": []
    },
    {
      "cell_type": "markdown",
      "metadata": {
        "id": "YFeqzyZxZIFZ"
      },
      "source": [
        "Функция RECORDREADER моделирует чтение элементов с диска или по сети."
      ]
    },
    {
      "cell_type": "code",
      "metadata": {
        "id": "S5HR4E_GQoMJ"
      },
      "source": [
        "def RECORDREADER():\n",
        "  return [(u.id, u) for u in input_collection]"
      ],
      "execution_count": 83,
      "outputs": []
    },
    {
      "cell_type": "code",
      "metadata": {
        "id": "NeEoWla-ROUy",
        "colab": {
          "base_uri": "https://localhost:8080/"
        },
        "outputId": "7ad8f28b-319a-4f16-d3b7-f9af738b1588"
      },
      "source": [
        "list(RECORDREADER())"
      ],
      "execution_count": 84,
      "outputs": [
        {
          "output_type": "execute_result",
          "data": {
            "text/plain": [
              "[(0, User(id=0, age=55, social_contacts=20, gender='male')),\n",
              " (1, User(id=1, age=25, social_contacts=240, gender='female')),\n",
              " (2, User(id=2, age=25, social_contacts=500, gender='female')),\n",
              " (3, User(id=3, age=33, social_contacts=800, gender='female'))]"
            ]
          },
          "metadata": {},
          "execution_count": 84
        }
      ]
    },
    {
      "cell_type": "code",
      "metadata": {
        "id": "YB8orgPSZs8M"
      },
      "source": [
        "def flatten(nested_iterable):\n",
        "  for iterable in nested_iterable:\n",
        "    for element in iterable:\n",
        "      yield element"
      ],
      "execution_count": 85,
      "outputs": []
    },
    {
      "cell_type": "code",
      "metadata": {
        "id": "74oyvDLaRmd5",
        "colab": {
          "base_uri": "https://localhost:8080/"
        },
        "outputId": "38e54381-ea32-4fc8-a370-376e575562d6"
      },
      "source": [
        "map_output = flatten(map(lambda x: MAP(*x), RECORDREADER()))\n",
        "map_output = list(map_output) # materialize\n",
        "map_output"
      ],
      "execution_count": 86,
      "outputs": [
        {
          "output_type": "execute_result",
          "data": {
            "text/plain": [
              "[(25, User(id=1, age=25, social_contacts=240, gender='female')),\n",
              " (25, User(id=2, age=25, social_contacts=500, gender='female')),\n",
              " (33, User(id=3, age=33, social_contacts=800, gender='female'))]"
            ]
          },
          "metadata": {},
          "execution_count": 86
        }
      ]
    },
    {
      "cell_type": "code",
      "metadata": {
        "id": "8ncYDJ3-VzDn"
      },
      "source": [
        "def groupbykey(iterable):\n",
        "  t = {}\n",
        "  for (k2, v2) in iterable:\n",
        "    t[k2] = t.get(k2, []) + [v2]\n",
        "  return t.items()"
      ],
      "execution_count": 87,
      "outputs": []
    },
    {
      "cell_type": "code",
      "metadata": {
        "id": "cKzY_6COWOA2",
        "colab": {
          "base_uri": "https://localhost:8080/"
        },
        "outputId": "408fda98-bc2a-48f4-b275-f79ddcb067b3"
      },
      "source": [
        "shuffle_output = groupbykey(map_output)\n",
        "shuffle_output = list(shuffle_output)\n",
        "shuffle_output"
      ],
      "execution_count": 88,
      "outputs": [
        {
          "output_type": "execute_result",
          "data": {
            "text/plain": [
              "[(25,\n",
              "  [User(id=1, age=25, social_contacts=240, gender='female'),\n",
              "   User(id=2, age=25, social_contacts=500, gender='female')]),\n",
              " (33, [User(id=3, age=33, social_contacts=800, gender='female')])]"
            ]
          },
          "metadata": {},
          "execution_count": 88
        }
      ]
    },
    {
      "cell_type": "code",
      "metadata": {
        "id": "NlA7lkDDYL0t",
        "colab": {
          "base_uri": "https://localhost:8080/"
        },
        "outputId": "85401d79-f0ce-4c16-8aec-4504e0833887"
      },
      "source": [
        "reduce_output = flatten(map(lambda x: REDUCE(*x), shuffle_output))\n",
        "reduce_output = list(reduce_output)\n",
        "reduce_output"
      ],
      "execution_count": 89,
      "outputs": [
        {
          "output_type": "execute_result",
          "data": {
            "text/plain": [
              "[(25, 370.0), (33, 800.0)]"
            ]
          },
          "metadata": {},
          "execution_count": 89
        }
      ]
    },
    {
      "cell_type": "markdown",
      "metadata": {
        "id": "xf6qhHEtd6bI"
      },
      "source": [
        "Все действия одним конвейером!"
      ]
    },
    {
      "cell_type": "code",
      "metadata": {
        "id": "dZaQGYxCdpw5",
        "colab": {
          "base_uri": "https://localhost:8080/"
        },
        "outputId": "d9ed2806-141d-470a-8be1-164f7cd80a5e"
      },
      "source": [
        "list(flatten(map(lambda x: REDUCE(*x), groupbykey(flatten(map(lambda x: MAP(*x), RECORDREADER()))))))"
      ],
      "execution_count": 90,
      "outputs": [
        {
          "output_type": "execute_result",
          "data": {
            "text/plain": [
              "[(25, 370.0), (33, 800.0)]"
            ]
          },
          "metadata": {},
          "execution_count": 90
        }
      ]
    },
    {
      "cell_type": "markdown",
      "metadata": {
        "id": "Vq3EWRIpwSiJ"
      },
      "source": [
        "# **MapReduce**\n",
        "Выделим общую для всех пользователей часть системы в отдельную функцию высшего порядка. Это наиболее простая модель MapReduce, без учёта распределённого хранения данных.\n",
        "\n",
        "Пользователь для решения своей задачи реализует RECORDREADER, MAP, REDUCE."
      ]
    },
    {
      "cell_type": "code",
      "metadata": {
        "id": "V1PZeQMwwVjc"
      },
      "source": [
        "def flatten(nested_iterable):\n",
        "  for iterable in nested_iterable:\n",
        "    for element in iterable:\n",
        "      yield element\n",
        "\n",
        "def groupbykey(iterable):\n",
        "  t = {}\n",
        "  for (k2, v2) in iterable:\n",
        "    t[k2] = t.get(k2, []) + [v2]\n",
        "  return t.items()\n",
        "\n",
        "def MapReduce(RECORDREADER, MAP, REDUCE):\n",
        "  return flatten(map(lambda x: REDUCE(*x), groupbykey(flatten(map(lambda x: MAP(*x), RECORDREADER())))))"
      ],
      "execution_count": 91,
      "outputs": []
    },
    {
      "cell_type": "markdown",
      "metadata": {
        "id": "iFIVrimep678"
      },
      "source": [
        "## Спецификация MapReduce\n",
        "\n",
        "\n",
        "\n",
        "```\n",
        "f (k1, v1) -> (k2,v2)*\n",
        "g (k2, v2*) -> (k3,v3)*\n",
        "\n",
        "mapreduce ((k1,v1)*) -> (k3,v3)*\n",
        "groupby ((k2,v2)*) -> (k2,v2*)*\n",
        "flatten (e2**) -> e2*\n",
        "\n",
        "mapreduce .map(f).flatten.groupby(k2).map(g).flatten\n",
        "```\n",
        "\n",
        "\n"
      ]
    },
    {
      "cell_type": "markdown",
      "metadata": {
        "id": "QtTFyqke3KGe"
      },
      "source": [
        "# Примеры"
      ]
    },
    {
      "cell_type": "markdown",
      "metadata": {
        "id": "BNhh5763w5Vn"
      },
      "source": [
        "## SQL"
      ]
    },
    {
      "cell_type": "code",
      "metadata": {
        "id": "QkyurnvGxBGk",
        "colab": {
          "base_uri": "https://localhost:8080/"
        },
        "outputId": "f4d1f0d8-74da-4814-988a-02ff02784110"
      },
      "source": [
        "from typing import NamedTuple # requires python 3.6+\n",
        "from typing import Iterator\n",
        "\n",
        "class User(NamedTuple):\n",
        "  id: int\n",
        "  age: str\n",
        "  social_contacts: int\n",
        "  gender: str\n",
        "\n",
        "input_collection = [\n",
        "    User(id=0, age=55, gender='male', social_contacts=20),\n",
        "    User(id=1, age=25, gender='female', social_contacts=240),\n",
        "    User(id=2, age=25, gender='female', social_contacts=500),\n",
        "    User(id=3, age=33, gender='female', social_contacts=800)\n",
        "]\n",
        "\n",
        "def MAP(_, row:NamedTuple):\n",
        "  if (row.gender == 'female'):\n",
        "    yield (row.age, row)\n",
        "\n",
        "def REDUCE(age:str, rows:Iterator[NamedTuple]):\n",
        "  sum = 0\n",
        "  count = 0\n",
        "  for row in rows:\n",
        "    sum += row.social_contacts\n",
        "    count += 1\n",
        "  if (count > 0):\n",
        "    yield (age, sum/count)\n",
        "  else:\n",
        "    yield (age, 0)\n",
        "\n",
        "def RECORDREADER():\n",
        "  return [(u.id, u) for u in input_collection]\n",
        "\n",
        "output = MapReduce(RECORDREADER, MAP, REDUCE)\n",
        "output = list(output)\n",
        "output"
      ],
      "execution_count": 92,
      "outputs": [
        {
          "output_type": "execute_result",
          "data": {
            "text/plain": [
              "[(25, 370.0), (33, 800.0)]"
            ]
          },
          "metadata": {},
          "execution_count": 92
        }
      ]
    },
    {
      "cell_type": "markdown",
      "metadata": {
        "id": "kNKYIeerx0nY"
      },
      "source": [
        "## Matrix-Vector multiplication"
      ]
    },
    {
      "cell_type": "code",
      "metadata": {
        "id": "rwcntRcCyi1V",
        "colab": {
          "base_uri": "https://localhost:8080/"
        },
        "outputId": "37376a16-1ce0-42b2-f79c-0a51e5fb9310"
      },
      "source": [
        "from typing import Iterator\n",
        "import numpy as np\n",
        "\n",
        "mat = np.ones((5,4))\n",
        "vec = np.random.rand(4) # in-memory vector in all map tasks\n",
        "\n",
        "def MAP(coordinates:(int, int), value:int):\n",
        "  i, j = coordinates\n",
        "  yield (i, value*vec[j])\n",
        "\n",
        "def REDUCE(i:int, products:Iterator[NamedTuple]):\n",
        "  sum = 0\n",
        "  for p in products:\n",
        "    sum += p\n",
        "  yield (i, sum)\n",
        "\n",
        "def RECORDREADER():\n",
        "  for i in range(mat.shape[0]):\n",
        "    for j in range(mat.shape[1]):\n",
        "      yield ((i, j), mat[i,j])\n",
        "\n",
        "output = MapReduce(RECORDREADER, MAP, REDUCE)\n",
        "output = list(output)\n",
        "output"
      ],
      "execution_count": 93,
      "outputs": [
        {
          "output_type": "execute_result",
          "data": {
            "text/plain": [
              "[(0, 1.028754085615041),\n",
              " (1, 1.028754085615041),\n",
              " (2, 1.028754085615041),\n",
              " (3, 1.028754085615041),\n",
              " (4, 1.028754085615041)]"
            ]
          },
          "metadata": {},
          "execution_count": 93
        }
      ]
    },
    {
      "cell_type": "markdown",
      "metadata": {
        "id": "ruZREYdi2o4O"
      },
      "source": [
        "## Inverted index"
      ]
    },
    {
      "cell_type": "code",
      "metadata": {
        "id": "vt9H9Alf3TYv",
        "colab": {
          "base_uri": "https://localhost:8080/"
        },
        "outputId": "f983833a-a6a7-4cdb-c066-246d40d4fca3"
      },
      "source": [
        "from typing import Iterator\n",
        "\n",
        "d1 = \"it is what it is\"\n",
        "d2 = \"what is it\"\n",
        "d3 = \"it is a banana\"\n",
        "documents = [d1, d2, d3]\n",
        "\n",
        "def RECORDREADER():\n",
        "  for (docid, document) in enumerate(documents):\n",
        "    yield (\"{}\".format(docid), document)\n",
        "\n",
        "def MAP(docId:str, body:str):\n",
        "  for word in set(body.split(' ')):\n",
        "    yield (word, docId)\n",
        "\n",
        "def REDUCE(word:str, docIds:Iterator[str]):\n",
        "  yield (word, sorted(docIds))\n",
        "\n",
        "output = MapReduce(RECORDREADER, MAP, REDUCE)\n",
        "output = list(output)\n",
        "output"
      ],
      "execution_count": 94,
      "outputs": [
        {
          "output_type": "execute_result",
          "data": {
            "text/plain": [
              "[('it', ['0', '1', '2']),\n",
              " ('what', ['0', '1']),\n",
              " ('is', ['0', '1', '2']),\n",
              " ('a', ['2']),\n",
              " ('banana', ['2'])]"
            ]
          },
          "metadata": {},
          "execution_count": 94
        }
      ]
    },
    {
      "cell_type": "markdown",
      "metadata": {
        "id": "R7az-6DA6qr2"
      },
      "source": [
        "## WordCount"
      ]
    },
    {
      "cell_type": "code",
      "metadata": {
        "id": "dN-nbtgG6uYG",
        "colab": {
          "base_uri": "https://localhost:8080/"
        },
        "outputId": "d32e41ff-e823-4361-b1dd-c0275e19fdd9"
      },
      "source": [
        "from typing import Iterator\n",
        "\n",
        "d1 = \"\"\"\n",
        "it is what it is\n",
        "it is what it is\n",
        "it is what it is\"\"\"\n",
        "d2 = \"\"\"\n",
        "what is it\n",
        "what is it\"\"\"\n",
        "d3 = \"\"\"\n",
        "it is a banana\"\"\"\n",
        "documents = [d1, d2, d3]\n",
        "\n",
        "def RECORDREADER():\n",
        "  for (docid, document) in enumerate(documents):\n",
        "    for (lineid, line) in enumerate(document.split('\\n')):\n",
        "      yield (\"{}:{}\".format(docid,lineid), line)\n",
        "\n",
        "def MAP(docId:str, line:str):\n",
        "  for word in line.split(\" \"):\n",
        "    yield (word, 1)\n",
        "\n",
        "def REDUCE(word:str, counts:Iterator[int]):\n",
        "  sum = 0\n",
        "  for c in counts:\n",
        "    sum += c\n",
        "  yield (word, sum)\n",
        "\n",
        "output = MapReduce(RECORDREADER, MAP, REDUCE)\n",
        "output = list(output)\n",
        "output"
      ],
      "execution_count": 95,
      "outputs": [
        {
          "output_type": "execute_result",
          "data": {
            "text/plain": [
              "[('', 3), ('it', 9), ('is', 9), ('what', 5), ('a', 1), ('banana', 1)]"
            ]
          },
          "metadata": {},
          "execution_count": 95
        }
      ]
    },
    {
      "cell_type": "markdown",
      "metadata": {
        "id": "h-jRAcYCAkkk"
      },
      "source": [
        "# MapReduce Distributed\n",
        "\n",
        "Добавляется в модель фабрика RECORDREARER-ов --- INPUTFORMAT, функция распределения промежуточных результатов по партициям PARTITIONER, и функция COMBINER для частичной аггрегации промежуточных результатов до распределения по новым партициям."
      ]
    },
    {
      "cell_type": "code",
      "metadata": {
        "id": "nw-b-xJsApgW"
      },
      "source": [
        "def flatten(nested_iterable):\n",
        "  for iterable in nested_iterable:\n",
        "    for element in iterable:\n",
        "      yield element\n",
        "\n",
        "def groupbykey(iterable):\n",
        "  t = {}\n",
        "  for (k2, v2) in iterable:\n",
        "    t[k2] = t.get(k2, []) + [v2]\n",
        "  return t.items()\n",
        "\n",
        "def groupbykey_distributed(map_partitions, PARTITIONER):\n",
        "  global reducers\n",
        "  partitions = [dict() for _ in range(reducers)]\n",
        "  for map_partition in map_partitions:\n",
        "    for (k2, v2) in map_partition:\n",
        "      p = partitions[PARTITIONER(k2)]\n",
        "      p[k2] = p.get(k2, []) + [v2]\n",
        "  return [(partition_id, sorted(partition.items(), key=lambda x: x[0])) for (partition_id, partition) in enumerate(partitions)]\n",
        "\n",
        "def PARTITIONER(obj):\n",
        "  global reducers\n",
        "  return hash(obj) % reducers\n",
        "\n",
        "def MapReduceDistributed(INPUTFORMAT, MAP, REDUCE, PARTITIONER=PARTITIONER, COMBINER=None):\n",
        "  map_partitions = map(lambda record_reader: flatten(map(lambda k1v1: MAP(*k1v1), record_reader)), INPUTFORMAT())\n",
        "  if COMBINER != None:\n",
        "    map_partitions = map(lambda map_partition: flatten(map(lambda k2v2: COMBINER(*k2v2), groupbykey(map_partition))), map_partitions)\n",
        "  reduce_partitions = groupbykey_distributed(map_partitions, PARTITIONER) # shuffle\n",
        "  reduce_outputs = map(lambda reduce_partition: (reduce_partition[0], flatten(map(lambda reduce_input_group: REDUCE(*reduce_input_group), reduce_partition[1]))), reduce_partitions)\n",
        "\n",
        "  print(\"{} key-value pairs were sent over a network.\".format(sum([len(vs) for (k,vs) in flatten([partition for (partition_id, partition) in reduce_partitions])])))\n",
        "  return reduce_outputs"
      ],
      "execution_count": 96,
      "outputs": []
    },
    {
      "cell_type": "markdown",
      "metadata": {
        "id": "kxirlf3XqZxY"
      },
      "source": [
        "## Спецификация MapReduce Distributed\n",
        "\n",
        "\n",
        "```\n",
        "f (k1, v1) -> (k2,v2)*\n",
        "g (k2, v2*) -> (k3,v3)*\n",
        "\n",
        "e1 (k1, v1)\n",
        "e2 (k2, v2)\n",
        "partition1 (k2, v2)*\n",
        "partition2 (k2, v2*)*\n",
        "\n",
        "flatmap (e1->e2*, e1*) -> partition1*\n",
        "groupby (partition1*) -> partition2*\n",
        "\n",
        "mapreduce ((k1,v1)*) -> (k3,v3)*\n",
        "mapreduce .flatmap(f).groupby(k2).flatmap(g)\n",
        "```\n",
        "\n"
      ]
    },
    {
      "cell_type": "markdown",
      "metadata": {
        "id": "CWYw_CpbbY3C"
      },
      "source": [
        "## WordCount"
      ]
    },
    {
      "cell_type": "code",
      "metadata": {
        "id": "uR_zfGFkMZlp",
        "colab": {
          "base_uri": "https://localhost:8080/"
        },
        "outputId": "b166b50b-36c3-48db-9327-6ed918cf8d8a"
      },
      "source": [
        "from typing import Iterator\n",
        "import numpy as np\n",
        "\n",
        "d1 = \"\"\"\n",
        "it is what it is\n",
        "it is what it is\n",
        "it is what it is\"\"\"\n",
        "d2 = \"\"\"\n",
        "what is it\n",
        "what is it\"\"\"\n",
        "d3 = \"\"\"\n",
        "it is a banana\"\"\"\n",
        "documents = [d1, d2, d3, d1, d2, d3]\n",
        "\n",
        "maps = 3\n",
        "reducers = 2\n",
        "\n",
        "def INPUTFORMAT():\n",
        "  global maps\n",
        "\n",
        "  def RECORDREADER(split):\n",
        "    for (docid, document) in enumerate(split):\n",
        "      for (lineid, line) in enumerate(document.split('\\n')):\n",
        "        yield (\"{}:{}\".format(docid,lineid), line)\n",
        "\n",
        "  split_size =  int(np.ceil(len(documents)/maps))\n",
        "  for i in range(0, len(documents), split_size):\n",
        "    yield RECORDREADER(documents[i:i+split_size])\n",
        "\n",
        "def MAP(docId:str, line:str):\n",
        "  for word in line.split(\" \"):\n",
        "    yield (word, 1)\n",
        "\n",
        "def REDUCE(word:str, counts:Iterator[int]):\n",
        "  sum = 0\n",
        "  for c in counts:\n",
        "    sum += c\n",
        "  yield (word, sum)\n",
        "\n",
        "# try to set COMBINER=REDUCER and look at the number of values sent over the network\n",
        "partitioned_output = MapReduceDistributed(INPUTFORMAT, MAP, REDUCE, COMBINER=None)\n",
        "partitioned_output = [(partition_id, list(partition)) for (partition_id, partition) in partitioned_output]\n",
        "partitioned_output"
      ],
      "execution_count": 97,
      "outputs": [
        {
          "output_type": "stream",
          "name": "stdout",
          "text": [
            "56 key-value pairs were sent over a network.\n"
          ]
        },
        {
          "output_type": "execute_result",
          "data": {
            "text/plain": [
              "[(0, [('', 6), ('a', 2), ('banana', 2), ('it', 18)]),\n",
              " (1, [('is', 18), ('what', 10)])]"
            ]
          },
          "metadata": {},
          "execution_count": 97
        }
      ]
    },
    {
      "cell_type": "markdown",
      "metadata": {
        "id": "gCJGx8IQ87xS"
      },
      "source": [
        "## TeraSort"
      ]
    },
    {
      "cell_type": "code",
      "metadata": {
        "id": "P2v8v1v_8_YR",
        "colab": {
          "base_uri": "https://localhost:8080/"
        },
        "outputId": "956c32ab-9d24-4ece-9e9a-af7035f8c7c6"
      },
      "source": [
        "import numpy as np\n",
        "\n",
        "input_values = np.random.rand(30)\n",
        "maps = 3\n",
        "reducers = 2\n",
        "min_value = 0.0\n",
        "max_value = 1.0\n",
        "\n",
        "def INPUTFORMAT():\n",
        "  global maps\n",
        "\n",
        "  def RECORDREADER(split):\n",
        "    for value in split:\n",
        "        yield (value, None)\n",
        "\n",
        "  split_size =  int(np.ceil(len(input_values)/maps))\n",
        "  for i in range(0, len(input_values), split_size):\n",
        "    yield RECORDREADER(input_values[i:i+split_size])\n",
        "\n",
        "def MAP(value:int, _):\n",
        "  yield (value, None)\n",
        "\n",
        "def PARTITIONER(key):\n",
        "  global reducers\n",
        "  global max_value\n",
        "  global min_value\n",
        "  bucket_size = (max_value-min_value)/reducers\n",
        "  bucket_id = 0\n",
        "  while((key>(bucket_id+1)*bucket_size) and ((bucket_id+1)*bucket_size<max_value)):\n",
        "    bucket_id += 1\n",
        "  return bucket_id\n",
        "\n",
        "def REDUCE(value:int, _):\n",
        "  yield (None,value)\n",
        "\n",
        "partitioned_output = MapReduceDistributed(INPUTFORMAT, MAP, REDUCE, COMBINER=None, PARTITIONER=PARTITIONER)\n",
        "partitioned_output = [(partition_id, list(partition)) for (partition_id, partition) in partitioned_output]\n",
        "partitioned_output"
      ],
      "execution_count": 98,
      "outputs": [
        {
          "output_type": "stream",
          "name": "stdout",
          "text": [
            "30 key-value pairs were sent over a network.\n"
          ]
        },
        {
          "output_type": "execute_result",
          "data": {
            "text/plain": [
              "[(0,\n",
              "  [(None, 0.018980547052389163),\n",
              "   (None, 0.022165485017636932),\n",
              "   (None, 0.061561131561569615),\n",
              "   (None, 0.21241307934096332),\n",
              "   (None, 0.31926842384322096),\n",
              "   (None, 0.32983580154392667),\n",
              "   (None, 0.35272318894609234),\n",
              "   (None, 0.3729364624474971),\n",
              "   (None, 0.38048452379864106),\n",
              "   (None, 0.39380503291082003),\n",
              "   (None, 0.39575283423560903),\n",
              "   (None, 0.439213763108795),\n",
              "   (None, 0.47833359940770726),\n",
              "   (None, 0.48404791015593696),\n",
              "   (None, 0.49969831762641737)]),\n",
              " (1,\n",
              "  [(None, 0.6207137477548006),\n",
              "   (None, 0.6446942716658729),\n",
              "   (None, 0.651222965231288),\n",
              "   (None, 0.6772657231561845),\n",
              "   (None, 0.7528647305867635),\n",
              "   (None, 0.785704748911121),\n",
              "   (None, 0.8052460617274902),\n",
              "   (None, 0.8425020854383031),\n",
              "   (None, 0.8851651863141086),\n",
              "   (None, 0.9157882756728528),\n",
              "   (None, 0.9332216362947846),\n",
              "   (None, 0.9535479668720422),\n",
              "   (None, 0.9677463048462734),\n",
              "   (None, 0.9850345975051914),\n",
              "   (None, 0.9917457900817522)])]"
            ]
          },
          "metadata": {},
          "execution_count": 98
        }
      ]
    },
    {
      "cell_type": "code",
      "metadata": {
        "id": "MQhoJaVZI93G"
      },
      "source": [],
      "execution_count": 98,
      "outputs": []
    },
    {
      "cell_type": "markdown",
      "metadata": {
        "id": "Iy65YJTH99iT"
      },
      "source": [
        "# Упражнения\n",
        "Упражнения взяты из Rajaraman A., Ullman J. D. Mining of massive datasets. – Cambridge University Press, 2011.\n",
        "\n",
        "\n",
        "Для выполнения заданий переопределите функции RECORDREADER, MAP, REDUCE. Для модели распределённой системы может потребоваться переопределение функций PARTITION и COMBINER."
      ]
    },
    {
      "cell_type": "markdown",
      "metadata": {
        "id": "cfvAeZm3S8S8"
      },
      "source": [
        "### Максимальное значение ряда\n",
        "\n",
        "Разработайте MapReduce алгоритм, который находит максимальное число входного списка чисел."
      ]
    },
    {
      "cell_type": "code",
      "metadata": {
        "id": "3GRA1JR-Tkbg",
        "colab": {
          "base_uri": "https://localhost:8080/"
        },
        "outputId": "1522cefe-5a6a-49e0-dc7a-a7bfcfc07e1d"
      },
      "source": [
        "import random\n",
        "from functools import reduce\n",
        "\n",
        "# Функция MAP для нахождения максимального значения в списке чисел\n",
        "def MAP(numList):\n",
        "    return max(numList)\n",
        "\n",
        "# Функция REDUCE для нахождения максимального значения среди всех списков чисел\n",
        "def REDUCE(max1, max2):\n",
        "    return max(max1, max2)\n",
        "\n",
        "# Функция RECORDREADER для генерации случайных чисел в заданном диапазоне\n",
        "def RECORDREADER(count):\n",
        "    return [random.randint(0, 100) for _ in range(count)]\n",
        "\n",
        "# Генерация списка случайных чисел\n",
        "record = RECORDREADER(15)\n",
        "print(record)\n",
        "\n",
        "# Выполнение Map: нахождение максимального значения в каждом элементе\n",
        "mapped_values = map(MAP, [record])  # Здесь передается список, содержащий record\n",
        "# Выполнение Reduce: нахождение максимального значения среди всех элементов\n",
        "result = reduce(REDUCE, mapped_values)\n",
        "\n",
        "print(\"Max value:\", result)"
      ],
      "execution_count": 99,
      "outputs": [
        {
          "output_type": "stream",
          "name": "stdout",
          "text": [
            "[84, 29, 74, 49, 43, 47, 64, 77, 35, 51, 21, 54, 81, 48, 26]\n",
            "Max value: 84\n"
          ]
        }
      ]
    },
    {
      "cell_type": "markdown",
      "metadata": {
        "id": "k86bXnqZTk-U"
      },
      "source": [
        "### Арифметическое среднее\n",
        "\n",
        "Разработайте MapReduce алгоритм, который находит арифметическое среднее.\n",
        "\n",
        "$$\\overline{X} = \\frac{1}{n}\\sum_{i=0}^{n} x_i$$\n"
      ]
    },
    {
      "cell_type": "code",
      "metadata": {
        "id": "MPoY5pkfUNZf",
        "colab": {
          "base_uri": "https://localhost:8080/"
        },
        "outputId": "47d879e3-6223-4e21-bc56-43d8b4944f2c"
      },
      "source": [
        "import random\n",
        "from typing import Iterator, Tuple\n",
        "\n",
        "# Функция MAP для создания пары (1, num)\n",
        "def MAP(num):\n",
        "    return (1, num)\n",
        "\n",
        "# Функция REDUCE для вычисления среднего значения из итератора NamedTuple\n",
        "def REDUCE(key, nums: Iterator[Tuple[int, int]]):\n",
        "    sum = 0\n",
        "    count = 0\n",
        "    for _, n in nums:  # Перебираем только числа, пропуская ключи\n",
        "        sum += n\n",
        "        count += 1\n",
        "    yield sum / count\n",
        "\n",
        "# Функция RECORDREADER для генерации списка случайных чисел\n",
        "def RECORDREADER(count):\n",
        "    return [random.randint(0, 100) for _ in range(count)]\n",
        "\n",
        "# Генерация списка случайных чисел\n",
        "record = RECORDREADER(100)\n",
        "\n",
        "# Применение функции MAP к результату функции RECORDREADER\n",
        "map_output = list(map(MAP, record))\n",
        "print(\"MAP output:\", map_output)\n",
        "\n",
        "# Применение функции REDUCE к результату группировки\n",
        "reduce_output = list(REDUCE(1, map_output))  # Группируем по фиктивному ключу 1\n",
        "\n",
        "print(\"Reduce output:\", reduce_output[0])"
      ],
      "execution_count": 100,
      "outputs": [
        {
          "output_type": "stream",
          "name": "stdout",
          "text": [
            "MAP output: [(1, 41), (1, 11), (1, 92), (1, 56), (1, 11), (1, 95), (1, 12), (1, 44), (1, 98), (1, 42), (1, 100), (1, 65), (1, 44), (1, 29), (1, 75), (1, 37), (1, 28), (1, 10), (1, 55), (1, 70), (1, 0), (1, 89), (1, 11), (1, 25), (1, 21), (1, 25), (1, 27), (1, 84), (1, 77), (1, 77), (1, 98), (1, 29), (1, 35), (1, 27), (1, 78), (1, 16), (1, 5), (1, 83), (1, 23), (1, 72), (1, 97), (1, 60), (1, 15), (1, 73), (1, 95), (1, 37), (1, 88), (1, 27), (1, 5), (1, 64), (1, 69), (1, 59), (1, 9), (1, 6), (1, 81), (1, 98), (1, 12), (1, 19), (1, 40), (1, 32), (1, 92), (1, 37), (1, 13), (1, 96), (1, 94), (1, 91), (1, 61), (1, 84), (1, 71), (1, 25), (1, 33), (1, 92), (1, 62), (1, 94), (1, 14), (1, 35), (1, 99), (1, 96), (1, 67), (1, 18), (1, 73), (1, 28), (1, 69), (1, 13), (1, 54), (1, 61), (1, 42), (1, 54), (1, 12), (1, 84), (1, 73), (1, 91), (1, 14), (1, 69), (1, 5), (1, 59), (1, 20), (1, 72), (1, 57), (1, 22)]\n",
            "Reduce output: 51.49\n"
          ]
        }
      ]
    },
    {
      "cell_type": "markdown",
      "metadata": {
        "id": "xanzszhsIlLe"
      },
      "source": [
        "### GroupByKey на основе сортировки\n",
        "\n",
        "Реализуйте groupByKey на основе сортировки, проверьте его работу на примерах"
      ]
    },
    {
      "cell_type": "code",
      "metadata": {
        "id": "hQPn3USsIkEC",
        "colab": {
          "base_uri": "https://localhost:8080/"
        },
        "outputId": "d4040186-df2f-4212-bf74-02c9927b8290"
      },
      "source": [
        "import random\n",
        "from typing import Iterator, NamedTuple, List, Tuple\n",
        "\n",
        "# Функция MAP для создания пары (1, num)\n",
        "def MAP(num):\n",
        "    return (1, num)\n",
        "\n",
        "# Функция REDUCE для вычисления среднего значения из итератора NamedTuple\n",
        "def REDUCE(key, nums: Iterator[int]):\n",
        "    sum = 0\n",
        "    count = 0\n",
        "    for n in nums:\n",
        "        sum += n\n",
        "        count += 1\n",
        "    yield sum / count\n",
        "\n",
        "# Функция RECORDREADER для генерации списка случайных чисел\n",
        "def RECORDREADER(count):\n",
        "    return [random.randint(0, 100) for _ in range(count)]\n",
        "\n",
        "# Функция для группировки значений по ключу с использованием сортировки\n",
        "def group_by_key(iterable: List[Tuple[int, int]]):\n",
        "    grouped_data = {}\n",
        "    for key, value in sorted(iterable, key=lambda x: x[0]):\n",
        "        grouped_data.setdefault(key, []).append(value)\n",
        "    return list(grouped_data.items())\n",
        "\n",
        "# Применение функции MAP к результату функции RECORDREADER\n",
        "map_output = list(map(lambda x: MAP(x), RECORDREADER(100)))\n",
        "print(\"MAP output:\", map_output)\n",
        "\n",
        "# Группировка по ключу и преобразование в список\n",
        "shuffle_output = group_by_key(map_output)\n",
        "print(\"Shuffle output:\", shuffle_output)\n",
        "\n",
        "# Применение функции REDUCE к результату группировки\n",
        "reduce_output = list(flatten(map(lambda x: REDUCE(*x), shuffle_output)))\n",
        "print(\"Reduce output:\", reduce_output)"
      ],
      "execution_count": 101,
      "outputs": [
        {
          "output_type": "stream",
          "name": "stdout",
          "text": [
            "MAP output: [(1, 49), (1, 36), (1, 89), (1, 48), (1, 17), (1, 51), (1, 48), (1, 6), (1, 56), (1, 97), (1, 21), (1, 11), (1, 14), (1, 38), (1, 84), (1, 26), (1, 72), (1, 26), (1, 92), (1, 38), (1, 32), (1, 94), (1, 66), (1, 32), (1, 38), (1, 83), (1, 17), (1, 46), (1, 30), (1, 37), (1, 61), (1, 65), (1, 77), (1, 93), (1, 82), (1, 53), (1, 58), (1, 2), (1, 99), (1, 18), (1, 40), (1, 59), (1, 29), (1, 19), (1, 49), (1, 92), (1, 27), (1, 72), (1, 65), (1, 100), (1, 90), (1, 78), (1, 56), (1, 55), (1, 25), (1, 15), (1, 30), (1, 83), (1, 88), (1, 17), (1, 95), (1, 52), (1, 19), (1, 27), (1, 12), (1, 39), (1, 25), (1, 71), (1, 94), (1, 41), (1, 17), (1, 100), (1, 39), (1, 32), (1, 97), (1, 61), (1, 20), (1, 75), (1, 51), (1, 71), (1, 87), (1, 68), (1, 62), (1, 16), (1, 76), (1, 7), (1, 33), (1, 82), (1, 71), (1, 38), (1, 40), (1, 31), (1, 64), (1, 98), (1, 63), (1, 13), (1, 27), (1, 28), (1, 37), (1, 35)]\n",
            "Shuffle output: [(1, [49, 36, 89, 48, 17, 51, 48, 6, 56, 97, 21, 11, 14, 38, 84, 26, 72, 26, 92, 38, 32, 94, 66, 32, 38, 83, 17, 46, 30, 37, 61, 65, 77, 93, 82, 53, 58, 2, 99, 18, 40, 59, 29, 19, 49, 92, 27, 72, 65, 100, 90, 78, 56, 55, 25, 15, 30, 83, 88, 17, 95, 52, 19, 27, 12, 39, 25, 71, 94, 41, 17, 100, 39, 32, 97, 61, 20, 75, 51, 71, 87, 68, 62, 16, 76, 7, 33, 82, 71, 38, 40, 31, 64, 98, 63, 13, 27, 28, 37, 35])]\n",
            "Reduce output: [51.05]\n"
          ]
        }
      ]
    },
    {
      "cell_type": "markdown",
      "metadata": {
        "id": "5SgEjCZyGnu6"
      },
      "source": [
        "### Drop duplicates (set construction, unique elements, distinct)\n",
        "\n",
        "Реализуйте распределённую операцию исключения дубликатов"
      ]
    },
    {
      "cell_type": "code",
      "metadata": {
        "id": "okjbyApjGhMt",
        "colab": {
          "base_uri": "https://localhost:8080/"
        },
        "outputId": "5a951bd2-1c0b-4359-b684-5c55a5aa1b5f"
      },
      "source": [
        "def flatten(nested_iterable):\n",
        "    # Функция для \"выравнивания\" вложенной структуры данных\n",
        "    for iterable in nested_iterable:\n",
        "        for element in iterable:\n",
        "            yield element\n",
        "\n",
        "def groupbykey(iterable):\n",
        "    # Группировка данных по ключу\n",
        "    grouped_data = {}\n",
        "    for key, value in iterable:\n",
        "        grouped_data.setdefault(key, []).append(value)\n",
        "    return list(grouped_data.items())\n",
        "\n",
        "def groupbykey_distributed(map_partitions, PARTITIONER):\n",
        "    # Распределенная группировка данных по ключу\n",
        "    global reducers\n",
        "    partitions = [dict() for _ in range(reducers)]\n",
        "    for map_partition in map_partitions:\n",
        "        for key, value in map_partition:\n",
        "            p = partitions[PARTITIONER(key)]\n",
        "            p.setdefault(key, []).append(value)\n",
        "    return [(partition_id, sorted(partition.items(), key=lambda x: x[0])) for (partition_id, partition) in enumerate(partitions)]\n",
        "\n",
        "def PARTITIONER(obj):\n",
        "    # Функция для определения разделителя (партиционера)\n",
        "    global reducers\n",
        "    return hash(obj) % reducers\n",
        "\n",
        "# Функция для выполнения операций MapReduce\n",
        "def MapReduceDistributed(INPUTFORMAT, MAP, REDUCE, PARTITIONER=PARTITIONER, COMBINER=None):\n",
        "\n",
        "    # Применяем функцию MAP к каждой записи во входных данных, затем \"выравниваем\" результаты\n",
        "    map_partitions = map(lambda record_reader: flatten(map(lambda k1v1: MAP(*k1v1), record_reader)), INPUTFORMAT())\n",
        "\n",
        "    # Если задан комбайнер (COMBINER), применяем его к данным после группировки по ключу\n",
        "    if COMBINER is not None:\n",
        "        map_partitions = map(lambda map_partition: flatten(map(lambda k2v2: COMBINER(*k2v2), groupbykey(map_partition))), map_partitions)\n",
        "\n",
        "    # Выполняем распределенную группировку данных по ключу с использованием заданного партиционера\n",
        "    reduce_partitions = groupbykey_distributed(map_partitions, PARTITIONER)\n",
        "\n",
        "    # Применяем функцию REDUCE к каждой группе данных после группировки и \"выравниваем\" результаты\n",
        "    reduce_outputs = map(lambda reduce_partition: (reduce_partition[0], flatten(map(lambda reduce_input_group: REDUCE(*reduce_input_group),\n",
        "                                                                                    reduce_partition[1]))), reduce_partitions)\n",
        "       # Вычисляем общее количество отправленных по сети пар ключ-значение\n",
        "    total_values_sent = sum([len(vs) for (k, vs) in flatten([partition for (partition_id, partition) in reduce_partitions])])\n",
        "\n",
        "    # Выводим информацию о количестве отправленных данных и возвращаем результат операций MapReduce\n",
        "    print(f\"{total_values_sent} key-value pairs were sent over a network.\")\n",
        "    return reduce_outputs\n",
        "\n",
        "\n",
        "\n",
        "from typing import Iterator\n",
        "import numpy as np\n",
        "\n",
        "# Задание текстовых документов\n",
        "d1 = \"\"\"\n",
        "it is what it is\n",
        "it is what it is\n",
        "it is what it is\"\"\"\n",
        "d2 = \"\"\"\n",
        "what is it\n",
        "what is it\"\"\"\n",
        "d3 = \"\"\"\n",
        "it is a dog\"\"\"\n",
        "documents = [d1, d2, d3, d1, d2, d3]\n",
        "\n",
        "maps = 3\n",
        "reducers = 2\n",
        "\n",
        "def INPUTFORMAT():\n",
        "    # Форматирование входных данных для MapReduce\n",
        "    global maps\n",
        "\n",
        "    # Функция RECORDREADER принимает на вход раздел (split) данных и генерирует ключ-значение для каждой строки документа\n",
        "    def RECORDREADER(split):\n",
        "      # Перебираем каждый документ в разделе, присваивая ему уникальный идентификатор docid\n",
        "        for (docid, document) in enumerate(split):\n",
        "          # Для каждой строки в документе создаем уникальный идентификатор lineid и разбиваем строку по символу новой строки '\\n'\n",
        "            for (lineid, line) in enumerate(document.split('\\n')):\n",
        "               # Генерируем ключ в формате \"docid:lineid\" и значение - строку из документа\n",
        "                yield (\"{}:{}\".format(docid, lineid), line)\n",
        "    # Вычисляем размер раздела данных split_size как округленное вверх\n",
        "    #значение от деления общего числа документов на количество задач MapReduce\n",
        "    split_size = int(np.ceil(len(documents) / maps))\n",
        "    # Цикл по документам с шагом split_size\n",
        "    for i in range(0, len(documents), split_size):\n",
        "      # Генерируем данные для каждого раздела данных путем вызова функции RECORDREADER с подмножеством документов\n",
        "        yield RECORDREADER(documents[i:i + split_size])\n",
        "\n",
        "def MAP(docId: str, line: str):\n",
        "    # Функция Map для преобразования данных\n",
        "    for word in line.split(\" \"):\n",
        "        yield (word, word)\n",
        "\n",
        "def REDUCE(key: str, value: Iterator[str]):\n",
        "    # Функция Reduce для агрегации данных\n",
        "    yield key\n",
        "\n",
        "# Выполнение MapReduce операций с заданными функциями MAP и REDUCE\n",
        "partitioned_output = MapReduceDistributed(INPUTFORMAT, MAP, REDUCE, COMBINER=None)\n",
        "partitioned_output = [(partition_id, list(partition)) for (partition_id, partition) in partitioned_output]\n",
        "partitioned_output"
      ],
      "execution_count": 102,
      "outputs": [
        {
          "output_type": "stream",
          "name": "stdout",
          "text": [
            "56 key-value pairs were sent over a network.\n"
          ]
        },
        {
          "output_type": "execute_result",
          "data": {
            "text/plain": [
              "[(0, ['', 'a', 'dog', 'it']), (1, ['is', 'what'])]"
            ]
          },
          "metadata": {},
          "execution_count": 102
        }
      ]
    },
    {
      "cell_type": "markdown",
      "metadata": {
        "id": "e7sRGoTXuJze"
      },
      "source": [
        "#Операторы реляционной алгебры\n",
        "### Selection (Выборка)\n",
        "\n",
        "**The Map Function**: Для  каждого кортежа $t \\in R$ вычисляется истинность предиката $C$. В случае истины создаётся пара ключ-значение $(t, t)$. В паре ключ и значение одинаковы, равны $t$.\n",
        "\n",
        "**The Reduce Function:** Роль функции Reduce выполняет функция идентичности, которая возвращает то же значение, что получила на вход.\n",
        "\n"
      ]
    },
    {
      "cell_type": "code",
      "metadata": {
        "id": "4nKIKe59uIfc",
        "colab": {
          "base_uri": "https://localhost:8080/"
        },
        "outputId": "04eb0624-eb53-4e62-ebe4-f136233791de"
      },
      "source": [
        "from collections import defaultdict\n",
        "import random\n",
        "\n",
        "# Функция для реализации MAP операции\n",
        "def MAP(el_list):\n",
        "    mapped_result = defaultdict(list)\n",
        "    for t in el_list:\n",
        "        if C(t):  # Предикат C - выбираем только кортежи, удовлетворяющие условию\n",
        "            mapped_result[t].append(t)\n",
        "    return mapped_result.items()\n",
        "\n",
        "# Функция для реализации REDUCE операции\n",
        "def REDUCE(mapped_items):\n",
        "    reduced_result = []\n",
        "    print(mapped_items)  # Выводим промежуточный результат\n",
        "    for values in mapped_items:\n",
        "        for value in values:\n",
        "            reduced_result.append(value)  # Функция идентичности: возвращаем то же значение, что получили на вход\n",
        "    return reduced_result\n",
        "\n",
        "# Предикат для фильтрации кортежей с четным первым элементом\n",
        "def C(t):\n",
        "    return t[0] % 2 == 0\n",
        "\n",
        "# Генерация случайных записей (кортежей формата (x, y, z))\n",
        "def RECORDREADER(count):\n",
        "    return [(random.randint(0, 100), random.randint(0, 100), random.randint(0, 100)) for _ in range(count)]\n",
        "\n",
        "# Создание набора записей\n",
        "record = RECORDREADER(5)\n",
        "print(record)\n",
        "\n",
        "# Разбиение записей на равные части\n",
        "part_count = 5\n",
        "record_partitioned = [record[d:d + part_count] for d in range(0, len(record), part_count)]\n",
        "print(record_partitioned)\n",
        "\n",
        "# Применение операции MAP и последующей REDUCE к разделенным записям\n",
        "print(REDUCE(list(map(lambda x: MAP(x), record_partitioned))))"
      ],
      "execution_count": 103,
      "outputs": [
        {
          "output_type": "stream",
          "name": "stdout",
          "text": [
            "[(90, 59, 40), (91, 71, 43), (68, 50, 85), (100, 28, 24), (53, 61, 19)]\n",
            "[[(90, 59, 40), (91, 71, 43), (68, 50, 85), (100, 28, 24), (53, 61, 19)]]\n",
            "[dict_items([((90, 59, 40), [(90, 59, 40)]), ((68, 50, 85), [(68, 50, 85)]), ((100, 28, 24), [(100, 28, 24)])])]\n",
            "[((90, 59, 40), [(90, 59, 40)]), ((68, 50, 85), [(68, 50, 85)]), ((100, 28, 24), [(100, 28, 24)])]\n"
          ]
        }
      ]
    },
    {
      "cell_type": "markdown",
      "metadata": {
        "id": "w27Ca-_Ku85V"
      },
      "source": [
        "### Projection (Проекция)\n",
        "\n",
        "Проекция на множество атрибутов $S$.\n",
        "\n",
        "**The Map Function:** Для каждого кортежа $t \\in R$ создайте кортеж $t′$, исключая  из $t$ те значения, атрибуты которых не принадлежат  $S$. Верните пару $(t′, t′)$.\n",
        "\n",
        "**The Reduce Function:** Для каждого ключа $t′$, созданного любой Map задачей, вы получаете одну или несколько пар $(t′, t′)$. Reduce функция преобразует $(t′, [t′, t′, . . . , t′])$ в $(t′, t′)$, так, что для ключа $t′$ возвращается одна пара  $(t′, t′)$."
      ]
    },
    {
      "cell_type": "code",
      "metadata": {
        "id": "BEvuY4GqvhS6",
        "colab": {
          "base_uri": "https://localhost:8080/"
        },
        "outputId": "0731003c-33e4-420b-da71-2083fe26e437"
      },
      "source": [
        "S = set([25, 90, 69])  # Создаем множество S\n",
        "\n",
        "def MAP(t):\n",
        "    res_list = []\n",
        "    for el in t:  # Перебираем элементы входного кортежа t\n",
        "        if el in S:  # Проверяем, есть ли элемент el в множестве S\n",
        "            res_list.append(el)  # Добавляем элемент el в результирующий список\n",
        "    res = tuple(res_list)  # Преобразуем список в кортеж\n",
        "    return (res, res)  # Возвращаем кортеж из результирующего списка дважды\n",
        "\n",
        "def REDUCE(key, values: Iterator[NamedTuple]):\n",
        "    return (key, key)  # Возвращает кортеж с ключом и значением равными ключу\n",
        "\n",
        "def RECORDREADER(count):\n",
        "    return [(random.randint(0, 100), random.randint(0, 100), random.randint(0, 100)) for i in range(count)]  # Генерирует список кортежей случайных чисел\n",
        "\n",
        "def group_by_key(iterable):\n",
        "    t = {}\n",
        "    for (k2, v2) in iterable:  # Перебираем элементы входного итерируемого объекта\n",
        "        t[k2] = t.get(k2, []) + [v2]  # Группируем значения по ключу k2\n",
        "    return t.items()  # Возвращаем список кортежей (ключ, список значений)\n",
        "\n",
        "record = RECORDREADER(5)  # Генерируем список кортежей случайных чисел\n",
        "print(record)\n",
        "\n",
        "map_output = list(map(lambda x: MAP(x), RECORDREADER(100)))  # Применяем функцию MAP ко всем элементам RECORDREADER(100)\n",
        "print(\"MAP output:\", map_output)\n",
        "\n",
        "shuffle_output = group_by_key(map_output)  # Группируем значения по ключу\n",
        "shuffle_output = list(shuffle_output)  # Преобразуем результат в список\n",
        "\n",
        "print(\"Shuffle output:\", shuffle_output)\n",
        "\n",
        "reduce_output = list(map(lambda x: REDUCE(*x)[0], shuffle_output))  # Применяем функцию REDUCE к результату группировки\n",
        "print(\"Reduce output:\", reduce_output)"
      ],
      "execution_count": 104,
      "outputs": [
        {
          "output_type": "stream",
          "name": "stdout",
          "text": [
            "[(80, 5, 38), (42, 88, 55), (100, 70, 95), (70, 97, 59), (22, 48, 30)]\n",
            "MAP output: [((), ()), ((), ()), ((), ()), ((), ()), ((), ()), ((), ()), ((), ()), ((), ()), ((), ()), ((), ()), ((), ()), ((), ()), ((), ()), ((), ()), ((), ()), ((), ()), ((), ()), ((), ()), ((), ()), ((), ()), ((), ()), ((), ()), ((), ()), ((), ()), ((), ()), ((), ()), ((), ()), ((), ()), ((), ()), ((), ()), ((69,), (69,)), ((), ()), ((), ()), ((), ()), ((), ()), ((), ()), ((), ()), ((), ()), ((), ()), ((), ()), ((), ()), ((), ()), ((), ()), ((), ()), ((), ()), ((69,), (69,)), ((), ()), ((), ()), ((), ()), ((), ()), ((), ()), ((), ()), ((), ()), ((), ()), ((), ()), ((), ()), ((), ()), ((), ()), ((), ()), ((), ()), ((), ()), ((), ()), ((), ()), ((), ()), ((), ()), ((), ()), ((), ()), ((), ()), ((), ()), ((), ()), ((), ()), ((), ()), ((), ()), ((90,), (90,)), ((), ()), ((), ()), ((), ()), ((), ()), ((), ()), ((), ()), ((), ()), ((), ()), ((90,), (90,)), ((), ()), ((), ()), ((), ()), ((), ()), ((), ()), ((), ()), ((), ()), ((), ()), ((), ()), ((), ()), ((69,), (69,)), ((), ()), ((), ()), ((), ()), ((), ()), ((69,), (69,)), ((), ())]\n",
            "Shuffle output: [((), [(), (), (), (), (), (), (), (), (), (), (), (), (), (), (), (), (), (), (), (), (), (), (), (), (), (), (), (), (), (), (), (), (), (), (), (), (), (), (), (), (), (), (), (), (), (), (), (), (), (), (), (), (), (), (), (), (), (), (), (), (), (), (), (), (), (), (), (), (), (), (), (), (), (), (), (), (), (), (), (), (), (), (), (), (), (), (), (), (), (), (), (), (), ()]), ((69,), [(69,), (69,), (69,), (69,)]), ((90,), [(90,), (90,)])]\n",
            "Reduce output: [(), (69,), (90,)]\n"
          ]
        }
      ]
    },
    {
      "cell_type": "markdown",
      "metadata": {
        "id": "7gau6lKXvn2R"
      },
      "source": [
        "### Union (Объединение)\n",
        "\n",
        "**The Map Function:** Превратите каждый входной кортеж $t$ в пару ключ-значение $(t, t)$.\n",
        "\n",
        "**The Reduce Function:** С каждым ключом $t$ будет ассоциировано одно или два значений. В обоих случаях создайте $(t, t)$ в качестве выходного значения."
      ]
    },
    {
      "cell_type": "code",
      "metadata": {
        "id": "Sns7a5agv3nw",
        "colab": {
          "base_uri": "https://localhost:8080/"
        },
        "outputId": "a1b20712-72fb-4a24-ac6e-8a5182604a99"
      },
      "source": [
        "def MAP(t):\n",
        "    return (t, t)  # Функция MAP возвращает кортеж из входного элемента и этого же элемента\n",
        "\n",
        "def REDUCE(key, values: Iterator[NamedTuple]):\n",
        "    return (key, key)  # Функция REDUCE возвращает кортеж с ключом и значением равными ключу\n",
        "\n",
        "def RECORDREADER(count):\n",
        "    return [(random.randint(0, 100), random.randint(0, 100), random.randint(0, 100)) for i in range(count)]  # Генерирует список кортежей случайных чисел\n",
        "\n",
        "def group_by_key(iterable):\n",
        "    t = {}\n",
        "    for (k2, v2) in iterable:  # Перебираем элементы входного итерируемого объекта\n",
        "        t[k2] = t.get(k2, []) + [v2]  # Группируем значения по ключу k2\n",
        "    return t.items()  # Возвращаем список кортежей (ключ, список значений)\n",
        "\n",
        "record = RECORDREADER(5)  # Генерируем список кортежей случайных чисел\n",
        "print(record)\n",
        "\n",
        "map_output = list(map(lambda x: MAP(x), RECORDREADER(100)))  # Применяем функцию MAP ко всем элементам RECORDREADER(100)\n",
        "print(\"MAP output:\", map_output)\n",
        "\n",
        "shuffle_output = group_by_key(map_output)  # Группируем значения по ключу\n",
        "shuffle_output = list(shuffle_output)  # Преобразуем результат в список\n",
        "print(\"Shuffle output:\", shuffle_output)\n",
        "\n",
        "reduce_output = list(map(lambda x: REDUCE(*x)[0], shuffle_output))  # Применяем функцию REDUCE к результату группировки\n",
        "print(\"Reduce output:\", reduce_output)"
      ],
      "execution_count": 105,
      "outputs": [
        {
          "output_type": "stream",
          "name": "stdout",
          "text": [
            "[(19, 44, 12), (66, 10, 52), (97, 24, 40), (96, 8, 68), (37, 43, 67)]\n",
            "MAP output: [((31, 19, 87), (31, 19, 87)), ((82, 25, 98), (82, 25, 98)), ((43, 36, 53), (43, 36, 53)), ((15, 56, 68), (15, 56, 68)), ((81, 79, 16), (81, 79, 16)), ((96, 25, 10), (96, 25, 10)), ((94, 23, 48), (94, 23, 48)), ((55, 14, 33), (55, 14, 33)), ((74, 49, 76), (74, 49, 76)), ((4, 53, 9), (4, 53, 9)), ((65, 31, 51), (65, 31, 51)), ((98, 51, 28), (98, 51, 28)), ((43, 0, 93), (43, 0, 93)), ((5, 78, 5), (5, 78, 5)), ((72, 22, 98), (72, 22, 98)), ((33, 32, 69), (33, 32, 69)), ((74, 84, 22), (74, 84, 22)), ((85, 0, 17), (85, 0, 17)), ((32, 25, 17), (32, 25, 17)), ((80, 80, 99), (80, 80, 99)), ((67, 60, 97), (67, 60, 97)), ((97, 12, 29), (97, 12, 29)), ((58, 94, 45), (58, 94, 45)), ((52, 48, 82), (52, 48, 82)), ((10, 1, 72), (10, 1, 72)), ((12, 36, 20), (12, 36, 20)), ((70, 75, 72), (70, 75, 72)), ((34, 79, 48), (34, 79, 48)), ((13, 72, 44), (13, 72, 44)), ((97, 99, 27), (97, 99, 27)), ((38, 25, 95), (38, 25, 95)), ((51, 98, 73), (51, 98, 73)), ((40, 40, 16), (40, 40, 16)), ((84, 92, 5), (84, 92, 5)), ((30, 78, 83), (30, 78, 83)), ((77, 58, 74), (77, 58, 74)), ((89, 34, 54), (89, 34, 54)), ((61, 59, 11), (61, 59, 11)), ((84, 2, 15), (84, 2, 15)), ((50, 12, 36), (50, 12, 36)), ((47, 1, 21), (47, 1, 21)), ((91, 54, 3), (91, 54, 3)), ((72, 72, 12), (72, 72, 12)), ((35, 34, 67), (35, 34, 67)), ((40, 74, 56), (40, 74, 56)), ((68, 68, 87), (68, 68, 87)), ((28, 40, 51), (28, 40, 51)), ((62, 12, 75), (62, 12, 75)), ((38, 34, 23), (38, 34, 23)), ((86, 22, 96), (86, 22, 96)), ((7, 91, 43), (7, 91, 43)), ((83, 52, 5), (83, 52, 5)), ((42, 56, 55), (42, 56, 55)), ((6, 17, 37), (6, 17, 37)), ((65, 3, 33), (65, 3, 33)), ((27, 9, 91), (27, 9, 91)), ((93, 41, 78), (93, 41, 78)), ((47, 12, 41), (47, 12, 41)), ((1, 7, 36), (1, 7, 36)), ((56, 19, 7), (56, 19, 7)), ((41, 94, 82), (41, 94, 82)), ((0, 12, 69), (0, 12, 69)), ((73, 21, 57), (73, 21, 57)), ((76, 98, 35), (76, 98, 35)), ((23, 29, 63), (23, 29, 63)), ((3, 56, 82), (3, 56, 82)), ((28, 7, 44), (28, 7, 44)), ((97, 34, 22), (97, 34, 22)), ((89, 53, 27), (89, 53, 27)), ((78, 52, 50), (78, 52, 50)), ((2, 31, 43), (2, 31, 43)), ((92, 68, 85), (92, 68, 85)), ((23, 13, 15), (23, 13, 15)), ((83, 52, 9), (83, 52, 9)), ((59, 7, 74), (59, 7, 74)), ((35, 22, 64), (35, 22, 64)), ((51, 66, 31), (51, 66, 31)), ((80, 12, 22), (80, 12, 22)), ((14, 49, 1), (14, 49, 1)), ((11, 47, 53), (11, 47, 53)), ((62, 22, 92), (62, 22, 92)), ((70, 35, 68), (70, 35, 68)), ((21, 72, 74), (21, 72, 74)), ((65, 8, 32), (65, 8, 32)), ((99, 93, 61), (99, 93, 61)), ((13, 86, 90), (13, 86, 90)), ((35, 34, 99), (35, 34, 99)), ((54, 67, 77), (54, 67, 77)), ((76, 34, 43), (76, 34, 43)), ((83, 63, 13), (83, 63, 13)), ((4, 100, 59), (4, 100, 59)), ((68, 20, 57), (68, 20, 57)), ((3, 72, 70), (3, 72, 70)), ((81, 98, 17), (81, 98, 17)), ((1, 35, 38), (1, 35, 38)), ((84, 29, 57), (84, 29, 57)), ((70, 39, 56), (70, 39, 56)), ((67, 99, 80), (67, 99, 80)), ((65, 52, 84), (65, 52, 84)), ((8, 12, 52), (8, 12, 52))]\n",
            "Shuffle output: [((31, 19, 87), [(31, 19, 87)]), ((82, 25, 98), [(82, 25, 98)]), ((43, 36, 53), [(43, 36, 53)]), ((15, 56, 68), [(15, 56, 68)]), ((81, 79, 16), [(81, 79, 16)]), ((96, 25, 10), [(96, 25, 10)]), ((94, 23, 48), [(94, 23, 48)]), ((55, 14, 33), [(55, 14, 33)]), ((74, 49, 76), [(74, 49, 76)]), ((4, 53, 9), [(4, 53, 9)]), ((65, 31, 51), [(65, 31, 51)]), ((98, 51, 28), [(98, 51, 28)]), ((43, 0, 93), [(43, 0, 93)]), ((5, 78, 5), [(5, 78, 5)]), ((72, 22, 98), [(72, 22, 98)]), ((33, 32, 69), [(33, 32, 69)]), ((74, 84, 22), [(74, 84, 22)]), ((85, 0, 17), [(85, 0, 17)]), ((32, 25, 17), [(32, 25, 17)]), ((80, 80, 99), [(80, 80, 99)]), ((67, 60, 97), [(67, 60, 97)]), ((97, 12, 29), [(97, 12, 29)]), ((58, 94, 45), [(58, 94, 45)]), ((52, 48, 82), [(52, 48, 82)]), ((10, 1, 72), [(10, 1, 72)]), ((12, 36, 20), [(12, 36, 20)]), ((70, 75, 72), [(70, 75, 72)]), ((34, 79, 48), [(34, 79, 48)]), ((13, 72, 44), [(13, 72, 44)]), ((97, 99, 27), [(97, 99, 27)]), ((38, 25, 95), [(38, 25, 95)]), ((51, 98, 73), [(51, 98, 73)]), ((40, 40, 16), [(40, 40, 16)]), ((84, 92, 5), [(84, 92, 5)]), ((30, 78, 83), [(30, 78, 83)]), ((77, 58, 74), [(77, 58, 74)]), ((89, 34, 54), [(89, 34, 54)]), ((61, 59, 11), [(61, 59, 11)]), ((84, 2, 15), [(84, 2, 15)]), ((50, 12, 36), [(50, 12, 36)]), ((47, 1, 21), [(47, 1, 21)]), ((91, 54, 3), [(91, 54, 3)]), ((72, 72, 12), [(72, 72, 12)]), ((35, 34, 67), [(35, 34, 67)]), ((40, 74, 56), [(40, 74, 56)]), ((68, 68, 87), [(68, 68, 87)]), ((28, 40, 51), [(28, 40, 51)]), ((62, 12, 75), [(62, 12, 75)]), ((38, 34, 23), [(38, 34, 23)]), ((86, 22, 96), [(86, 22, 96)]), ((7, 91, 43), [(7, 91, 43)]), ((83, 52, 5), [(83, 52, 5)]), ((42, 56, 55), [(42, 56, 55)]), ((6, 17, 37), [(6, 17, 37)]), ((65, 3, 33), [(65, 3, 33)]), ((27, 9, 91), [(27, 9, 91)]), ((93, 41, 78), [(93, 41, 78)]), ((47, 12, 41), [(47, 12, 41)]), ((1, 7, 36), [(1, 7, 36)]), ((56, 19, 7), [(56, 19, 7)]), ((41, 94, 82), [(41, 94, 82)]), ((0, 12, 69), [(0, 12, 69)]), ((73, 21, 57), [(73, 21, 57)]), ((76, 98, 35), [(76, 98, 35)]), ((23, 29, 63), [(23, 29, 63)]), ((3, 56, 82), [(3, 56, 82)]), ((28, 7, 44), [(28, 7, 44)]), ((97, 34, 22), [(97, 34, 22)]), ((89, 53, 27), [(89, 53, 27)]), ((78, 52, 50), [(78, 52, 50)]), ((2, 31, 43), [(2, 31, 43)]), ((92, 68, 85), [(92, 68, 85)]), ((23, 13, 15), [(23, 13, 15)]), ((83, 52, 9), [(83, 52, 9)]), ((59, 7, 74), [(59, 7, 74)]), ((35, 22, 64), [(35, 22, 64)]), ((51, 66, 31), [(51, 66, 31)]), ((80, 12, 22), [(80, 12, 22)]), ((14, 49, 1), [(14, 49, 1)]), ((11, 47, 53), [(11, 47, 53)]), ((62, 22, 92), [(62, 22, 92)]), ((70, 35, 68), [(70, 35, 68)]), ((21, 72, 74), [(21, 72, 74)]), ((65, 8, 32), [(65, 8, 32)]), ((99, 93, 61), [(99, 93, 61)]), ((13, 86, 90), [(13, 86, 90)]), ((35, 34, 99), [(35, 34, 99)]), ((54, 67, 77), [(54, 67, 77)]), ((76, 34, 43), [(76, 34, 43)]), ((83, 63, 13), [(83, 63, 13)]), ((4, 100, 59), [(4, 100, 59)]), ((68, 20, 57), [(68, 20, 57)]), ((3, 72, 70), [(3, 72, 70)]), ((81, 98, 17), [(81, 98, 17)]), ((1, 35, 38), [(1, 35, 38)]), ((84, 29, 57), [(84, 29, 57)]), ((70, 39, 56), [(70, 39, 56)]), ((67, 99, 80), [(67, 99, 80)]), ((65, 52, 84), [(65, 52, 84)]), ((8, 12, 52), [(8, 12, 52)])]\n",
            "Reduce output: [(31, 19, 87), (82, 25, 98), (43, 36, 53), (15, 56, 68), (81, 79, 16), (96, 25, 10), (94, 23, 48), (55, 14, 33), (74, 49, 76), (4, 53, 9), (65, 31, 51), (98, 51, 28), (43, 0, 93), (5, 78, 5), (72, 22, 98), (33, 32, 69), (74, 84, 22), (85, 0, 17), (32, 25, 17), (80, 80, 99), (67, 60, 97), (97, 12, 29), (58, 94, 45), (52, 48, 82), (10, 1, 72), (12, 36, 20), (70, 75, 72), (34, 79, 48), (13, 72, 44), (97, 99, 27), (38, 25, 95), (51, 98, 73), (40, 40, 16), (84, 92, 5), (30, 78, 83), (77, 58, 74), (89, 34, 54), (61, 59, 11), (84, 2, 15), (50, 12, 36), (47, 1, 21), (91, 54, 3), (72, 72, 12), (35, 34, 67), (40, 74, 56), (68, 68, 87), (28, 40, 51), (62, 12, 75), (38, 34, 23), (86, 22, 96), (7, 91, 43), (83, 52, 5), (42, 56, 55), (6, 17, 37), (65, 3, 33), (27, 9, 91), (93, 41, 78), (47, 12, 41), (1, 7, 36), (56, 19, 7), (41, 94, 82), (0, 12, 69), (73, 21, 57), (76, 98, 35), (23, 29, 63), (3, 56, 82), (28, 7, 44), (97, 34, 22), (89, 53, 27), (78, 52, 50), (2, 31, 43), (92, 68, 85), (23, 13, 15), (83, 52, 9), (59, 7, 74), (35, 22, 64), (51, 66, 31), (80, 12, 22), (14, 49, 1), (11, 47, 53), (62, 22, 92), (70, 35, 68), (21, 72, 74), (65, 8, 32), (99, 93, 61), (13, 86, 90), (35, 34, 99), (54, 67, 77), (76, 34, 43), (83, 63, 13), (4, 100, 59), (68, 20, 57), (3, 72, 70), (81, 98, 17), (1, 35, 38), (84, 29, 57), (70, 39, 56), (67, 99, 80), (65, 52, 84), (8, 12, 52)]\n"
          ]
        }
      ]
    },
    {
      "cell_type": "markdown",
      "metadata": {
        "id": "dQ8TuEbjv4J8"
      },
      "source": [
        "### Intersection (Пересечение)\n",
        "\n",
        "**The Map Function:** Превратите каждый кортеж $t$ в пары ключ-значение $(t, t)$.\n",
        "\n",
        "**The Reduce Function:** Если для ключа $t$ есть список из двух элементов $[t, t]$ $-$ создайте пару $(t, t)$. Иначе, ничего не создавайте."
      ]
    },
    {
      "cell_type": "code",
      "metadata": {
        "id": "XKlBZh4IwERR",
        "colab": {
          "base_uri": "https://localhost:8080/"
        },
        "outputId": "bfcbcb2a-73c6-4a37-a221-6de4663f170b"
      },
      "source": [
        "def MAP(t):\n",
        "    return (t, t)  # Функция MAP возвращает кортеж из входного элемента и этого же элемента\n",
        "\n",
        "def REDUCE(key, values: Iterator[NamedTuple]):\n",
        "    if len(values) == 2:  # Если количество значений равно 2\n",
        "        return (key, key)  # Возвращает кортеж с ключом и значением равными ключу\n",
        "\n",
        "def RECORDREADER(count):\n",
        "    return [(random.randint(0, 3), random.randint(0, 3)) for i in range(count)]  # Генерирует список кортежей случайных чисел\n",
        "\n",
        "def group_by_key(iterable):\n",
        "    t = {}\n",
        "    for (k2, v2) in iterable:  # Перебираем элементы входного итерируемого объекта\n",
        "        t[k2] = t.get(k2, []) + [v2]  # Группируем значения по ключу k2\n",
        "    return t.items()  # Возвращаем список кортежей (ключ, список значений)\n",
        "\n",
        "record = RECORDREADER(100)  # Генерируем список кортежей случайных чисел\n",
        "print(record)\n",
        "\n",
        "map_output = list(map(lambda x: MAP(x), RECORDREADER(100)))  # Применяем функцию MAP ко всем элементам RECORDREADER(10)\n",
        "print(\"MAP output:\", map_output)\n",
        "\n",
        "shuffle_output = group_by_key(map_output)  # Группируем значения по ключу\n",
        "shuffle_output = list(shuffle_output)  # Преобразуем результат в список\n",
        "print(\"Shuffle output:\", shuffle_output)\n",
        "\n",
        "reduce_output = [el[0] for el in list(map(lambda x: REDUCE(*x), shuffle_output)) if el is not None]  # Применяем функцию REDUCE к результату группировки\n",
        "print(\"Reduce output:\", reduce_output)"
      ],
      "execution_count": 106,
      "outputs": [
        {
          "output_type": "stream",
          "name": "stdout",
          "text": [
            "[(2, 2), (3, 2), (0, 0), (1, 3), (3, 2), (1, 3), (1, 1), (2, 3), (0, 2), (1, 1), (2, 1), (0, 1), (1, 1), (1, 3), (2, 0), (2, 1), (2, 0), (2, 3), (1, 0), (3, 3), (2, 0), (0, 0), (2, 1), (1, 2), (0, 3), (3, 3), (0, 0), (0, 1), (1, 3), (1, 0), (2, 0), (0, 2), (3, 3), (3, 2), (3, 2), (1, 3), (3, 0), (1, 0), (2, 3), (1, 1), (0, 3), (1, 1), (0, 1), (3, 2), (3, 3), (1, 0), (2, 1), (2, 2), (2, 2), (0, 1), (2, 2), (1, 2), (3, 1), (3, 1), (3, 2), (1, 0), (2, 0), (3, 3), (3, 2), (2, 3), (2, 0), (2, 0), (3, 3), (1, 3), (3, 0), (0, 2), (1, 0), (0, 2), (2, 2), (3, 2), (0, 3), (3, 0), (1, 0), (1, 1), (1, 1), (0, 1), (3, 3), (1, 2), (0, 2), (0, 2), (0, 3), (2, 1), (1, 2), (0, 3), (3, 0), (2, 3), (3, 0), (1, 2), (3, 2), (3, 1), (2, 3), (2, 1), (0, 3), (0, 0), (3, 1), (1, 1), (0, 2), (3, 3), (0, 1), (3, 3)]\n",
            "MAP output: [((1, 1), (1, 1)), ((2, 0), (2, 0)), ((3, 2), (3, 2)), ((0, 0), (0, 0)), ((0, 0), (0, 0)), ((3, 0), (3, 0)), ((2, 3), (2, 3)), ((0, 2), (0, 2)), ((0, 3), (0, 3)), ((2, 1), (2, 1)), ((3, 3), (3, 3)), ((1, 2), (1, 2)), ((2, 3), (2, 3)), ((1, 3), (1, 3)), ((3, 1), (3, 1)), ((2, 1), (2, 1)), ((2, 2), (2, 2)), ((1, 1), (1, 1)), ((0, 3), (0, 3)), ((1, 2), (1, 2)), ((1, 0), (1, 0)), ((2, 1), (2, 1)), ((2, 2), (2, 2)), ((0, 0), (0, 0)), ((1, 3), (1, 3)), ((0, 3), (0, 3)), ((3, 3), (3, 3)), ((3, 0), (3, 0)), ((1, 2), (1, 2)), ((2, 2), (2, 2)), ((0, 0), (0, 0)), ((3, 1), (3, 1)), ((3, 0), (3, 0)), ((0, 3), (0, 3)), ((1, 1), (1, 1)), ((0, 0), (0, 0)), ((1, 3), (1, 3)), ((3, 3), (3, 3)), ((0, 0), (0, 0)), ((0, 1), (0, 1)), ((2, 0), (2, 0)), ((1, 3), (1, 3)), ((0, 0), (0, 0)), ((2, 0), (2, 0)), ((3, 3), (3, 3)), ((2, 0), (2, 0)), ((2, 3), (2, 3)), ((0, 2), (0, 2)), ((3, 3), (3, 3)), ((1, 0), (1, 0)), ((3, 3), (3, 3)), ((0, 1), (0, 1)), ((0, 0), (0, 0)), ((0, 1), (0, 1)), ((2, 1), (2, 1)), ((1, 2), (1, 2)), ((0, 0), (0, 0)), ((1, 1), (1, 1)), ((1, 3), (1, 3)), ((2, 0), (2, 0)), ((1, 1), (1, 1)), ((1, 2), (1, 2)), ((0, 3), (0, 3)), ((2, 1), (2, 1)), ((0, 0), (0, 0)), ((3, 2), (3, 2)), ((3, 3), (3, 3)), ((3, 0), (3, 0)), ((1, 3), (1, 3)), ((0, 3), (0, 3)), ((1, 2), (1, 2)), ((1, 1), (1, 1)), ((2, 1), (2, 1)), ((0, 3), (0, 3)), ((2, 2), (2, 2)), ((0, 3), (0, 3)), ((3, 0), (3, 0)), ((1, 2), (1, 2)), ((0, 1), (0, 1)), ((3, 0), (3, 0)), ((1, 3), (1, 3)), ((3, 0), (3, 0)), ((2, 1), (2, 1)), ((2, 3), (2, 3)), ((1, 3), (1, 3)), ((1, 3), (1, 3)), ((2, 3), (2, 3)), ((2, 3), (2, 3)), ((0, 2), (0, 2)), ((2, 3), (2, 3)), ((1, 3), (1, 3)), ((0, 0), (0, 0)), ((2, 1), (2, 1)), ((0, 2), (0, 2)), ((0, 3), (0, 3)), ((2, 1), (2, 1)), ((3, 3), (3, 3)), ((0, 0), (0, 0)), ((0, 0), (0, 0)), ((0, 2), (0, 2))]\n",
            "Shuffle output: [((1, 1), [(1, 1), (1, 1), (1, 1), (1, 1), (1, 1), (1, 1)]), ((2, 0), [(2, 0), (2, 0), (2, 0), (2, 0), (2, 0)]), ((3, 2), [(3, 2), (3, 2)]), ((0, 0), [(0, 0), (0, 0), (0, 0), (0, 0), (0, 0), (0, 0), (0, 0), (0, 0), (0, 0), (0, 0), (0, 0), (0, 0), (0, 0)]), ((3, 0), [(3, 0), (3, 0), (3, 0), (3, 0), (3, 0), (3, 0), (3, 0)]), ((2, 3), [(2, 3), (2, 3), (2, 3), (2, 3), (2, 3), (2, 3), (2, 3)]), ((0, 2), [(0, 2), (0, 2), (0, 2), (0, 2), (0, 2)]), ((0, 3), [(0, 3), (0, 3), (0, 3), (0, 3), (0, 3), (0, 3), (0, 3), (0, 3), (0, 3)]), ((2, 1), [(2, 1), (2, 1), (2, 1), (2, 1), (2, 1), (2, 1), (2, 1), (2, 1), (2, 1)]), ((3, 3), [(3, 3), (3, 3), (3, 3), (3, 3), (3, 3), (3, 3), (3, 3), (3, 3)]), ((1, 2), [(1, 2), (1, 2), (1, 2), (1, 2), (1, 2), (1, 2), (1, 2)]), ((1, 3), [(1, 3), (1, 3), (1, 3), (1, 3), (1, 3), (1, 3), (1, 3), (1, 3), (1, 3), (1, 3)]), ((3, 1), [(3, 1), (3, 1)]), ((2, 2), [(2, 2), (2, 2), (2, 2), (2, 2)]), ((1, 0), [(1, 0), (1, 0)]), ((0, 1), [(0, 1), (0, 1), (0, 1), (0, 1)])]\n",
            "Reduce output: [(3, 2), (3, 1), (1, 0)]\n"
          ]
        }
      ]
    },
    {
      "cell_type": "markdown",
      "metadata": {
        "id": "AVOpqoY3wE5k"
      },
      "source": [
        "### Difference (Разница)\n",
        "\n",
        "**The Map Function:** Для кортежа $t \\in R$, создайте пару $(t, R)$, и для кортежа $t \\in S$, создайте пару $(t, S)$. Задумка заключается в том, чтобы значение пары было именем отношения $R$ or $S$, которому принадлежит кортеж (а лучше, единичный бит, по которому можно два отношения различить $R$ or $S$), а не весь набор атрибутов отношения.\n",
        "\n",
        "**The Reduce Function:** Для каждого ключа $t$, если соответствующее значение является списком $[R]$, создайте пару $(t, t)$. В иных случаях не предпринимайте действий."
      ]
    },
    {
      "cell_type": "code",
      "metadata": {
        "id": "QE_AC09lwZIZ",
        "colab": {
          "base_uri": "https://localhost:8080/"
        },
        "outputId": "7a933f7f-3006-48d2-ac59-f7d53df88afb"
      },
      "source": [
        "rels = [1, 2]  # Инициализация массива rels с элементами 1 и 2\n",
        "\n",
        "class Tuple:  # Определение класса Tuple для хранения данных и id представления\n",
        "    def __init__(self, data: tuple, rel_id: int):\n",
        "        self.data = data\n",
        "        self.rel_id = rel_id\n",
        "\n",
        "def get_random_tuple(count):\n",
        "    data = tuple([(random.randint(0, 3), random.randint(0, 3)) for i in range(count)])  # Генерация случайного кортежа данных\n",
        "    rel_id = rels[random.randint(0, len(rels) - 1)]  # Выбор случайного id представления из массива rels\n",
        "    return Tuple(data, rel_id)  # Возвращает экземпляр класса Tuple с данными и id представления\n",
        "\n",
        "def RECORDREADER(count):\n",
        "    return [get_random_tuple(3) for i in range(count)]  # Генерация списка случайных кортежей данных\n",
        "\n",
        "def MAP(t: Tuple):\n",
        "    return (t.data, t.rel_id)  # Функция MAP возвращает кортеж из данных и id представления\n",
        "\n",
        "def REDUCE(key, values: Iterator[NamedTuple]):\n",
        "    if values == [rels[0]]:  # Если значение соответствует первому элементу в массиве rels\n",
        "        return (key, key)  # Возвращает кортеж с ключом и значением равными ключу\n",
        "\n",
        "def group_by_key(iterable):\n",
        "    t = {}\n",
        "    for (k2, v2) in iterable:\n",
        "        t[k2] = t.get(k2, []) + [v2]  # Группировка значений по ключу k2\n",
        "    return t.items()  # Возвращает список кортежей (ключ, список значений)\n",
        "\n",
        "record = RECORDREADER(100)  # Генерация списка случайных кортежей данных\n",
        "\n",
        "map_output = list(map(lambda x: MAP(x), RECORDREADER(100)))  # Применение функции MAP к каждому элементу из RECORDREADER(100)\n",
        "print(\"MAP output:\", map_output)\n",
        "\n",
        "shuffle_output = group_by_key(map_output)  # Группировка значений по ключу\n",
        "shuffle_output = list(shuffle_output)  # Преобразование результата в список\n",
        "print(\"Shuffle output:\", shuffle_output)\n",
        "\n",
        "reduce_output = [el[0] for el in list(map(lambda x: REDUCE(*x), shuffle_output)) if el is not None]  # Применение функции REDUCE к результату группировки\n",
        "print(\"Reduce output:\", reduce_output)"
      ],
      "execution_count": 107,
      "outputs": [
        {
          "output_type": "stream",
          "name": "stdout",
          "text": [
            "MAP output: [(((3, 1), (3, 1), (0, 0)), 1), (((3, 2), (0, 0), (2, 3)), 1), (((0, 0), (3, 0), (0, 3)), 1), (((1, 1), (1, 3), (0, 1)), 2), (((2, 1), (1, 0), (0, 1)), 1), (((0, 1), (0, 3), (2, 1)), 1), (((2, 1), (0, 0), (1, 0)), 2), (((2, 1), (3, 1), (0, 2)), 1), (((3, 1), (1, 3), (2, 0)), 1), (((0, 2), (3, 2), (1, 1)), 2), (((1, 3), (3, 1), (3, 3)), 1), (((1, 2), (3, 1), (3, 2)), 2), (((3, 0), (2, 3), (3, 0)), 2), (((1, 3), (0, 3), (3, 0)), 2), (((3, 3), (2, 1), (2, 2)), 1), (((2, 3), (0, 1), (0, 2)), 1), (((3, 1), (2, 1), (2, 3)), 1), (((1, 1), (0, 2), (2, 3)), 2), (((1, 0), (2, 3), (2, 2)), 1), (((1, 1), (3, 1), (2, 0)), 1), (((2, 0), (1, 2), (3, 0)), 1), (((1, 3), (1, 0), (2, 3)), 2), (((1, 3), (3, 0), (1, 3)), 1), (((2, 2), (1, 1), (2, 2)), 2), (((2, 0), (1, 1), (3, 1)), 1), (((3, 1), (2, 2), (2, 2)), 2), (((3, 0), (1, 1), (0, 0)), 2), (((2, 1), (2, 1), (0, 3)), 2), (((2, 3), (1, 3), (0, 3)), 1), (((0, 2), (0, 3), (1, 0)), 2), (((0, 0), (2, 1), (3, 3)), 2), (((1, 3), (0, 2), (1, 3)), 1), (((2, 2), (3, 0), (3, 2)), 1), (((2, 0), (2, 2), (1, 0)), 2), (((2, 1), (1, 1), (0, 0)), 2), (((0, 1), (1, 0), (3, 1)), 1), (((2, 2), (0, 3), (1, 3)), 1), (((0, 2), (1, 3), (1, 0)), 2), (((2, 2), (1, 2), (1, 3)), 1), (((3, 2), (1, 1), (3, 3)), 2), (((2, 2), (0, 3), (2, 2)), 1), (((3, 3), (2, 0), (3, 1)), 2), (((3, 0), (2, 0), (2, 1)), 2), (((2, 2), (3, 1), (0, 0)), 2), (((0, 1), (2, 1), (3, 0)), 2), (((1, 0), (2, 3), (1, 0)), 2), (((2, 1), (2, 3), (3, 1)), 1), (((3, 0), (3, 2), (0, 2)), 1), (((1, 1), (2, 2), (3, 0)), 2), (((3, 1), (0, 2), (1, 3)), 1), (((2, 3), (3, 1), (0, 0)), 1), (((0, 1), (1, 3), (2, 2)), 1), (((3, 0), (3, 0), (2, 0)), 2), (((1, 0), (3, 3), (2, 0)), 2), (((3, 1), (1, 0), (1, 2)), 1), (((2, 0), (3, 3), (0, 3)), 2), (((2, 0), (0, 3), (0, 0)), 1), (((1, 0), (1, 0), (0, 3)), 2), (((1, 2), (2, 3), (3, 3)), 1), (((3, 2), (2, 2), (3, 2)), 1), (((2, 3), (3, 0), (1, 0)), 2), (((3, 3), (1, 2), (1, 0)), 2), (((2, 2), (3, 3), (0, 0)), 2), (((0, 0), (0, 0), (1, 0)), 1), (((1, 1), (2, 1), (3, 3)), 2), (((2, 3), (3, 3), (1, 1)), 2), (((0, 0), (3, 1), (2, 1)), 2), (((1, 0), (2, 3), (0, 3)), 1), (((0, 0), (3, 3), (2, 2)), 2), (((2, 2), (1, 1), (0, 2)), 2), (((0, 1), (2, 3), (0, 3)), 2), (((0, 2), (3, 3), (3, 3)), 1), (((1, 1), (2, 1), (0, 2)), 2), (((0, 1), (3, 1), (1, 2)), 1), (((2, 3), (1, 1), (3, 1)), 2), (((0, 1), (2, 2), (3, 0)), 2), (((1, 3), (1, 0), (3, 3)), 1), (((0, 1), (2, 0), (1, 2)), 1), (((1, 0), (2, 2), (2, 1)), 2), (((2, 3), (3, 0), (1, 0)), 1), (((3, 0), (2, 1), (1, 3)), 1), (((3, 2), (1, 1), (2, 0)), 1), (((1, 3), (1, 2), (1, 1)), 1), (((1, 2), (2, 2), (0, 1)), 1), (((0, 0), (0, 1), (2, 2)), 1), (((3, 1), (0, 1), (1, 0)), 1), (((0, 1), (2, 1), (3, 2)), 1), (((3, 1), (2, 1), (0, 3)), 1), (((1, 1), (2, 3), (0, 1)), 2), (((0, 3), (3, 0), (2, 3)), 2), (((1, 0), (3, 3), (3, 2)), 2), (((2, 0), (2, 3), (1, 3)), 2), (((0, 0), (2, 2), (1, 0)), 2), (((1, 2), (0, 1), (3, 1)), 2), (((2, 3), (2, 0), (2, 1)), 2), (((1, 1), (3, 1), (0, 3)), 2), (((0, 1), (0, 2), (3, 0)), 1), (((0, 0), (3, 1), (1, 2)), 1), (((3, 2), (0, 3), (1, 1)), 2), (((2, 0), (1, 0), (3, 1)), 1)]\n",
            "Shuffle output: [(((3, 1), (3, 1), (0, 0)), [1]), (((3, 2), (0, 0), (2, 3)), [1]), (((0, 0), (3, 0), (0, 3)), [1]), (((1, 1), (1, 3), (0, 1)), [2]), (((2, 1), (1, 0), (0, 1)), [1]), (((0, 1), (0, 3), (2, 1)), [1]), (((2, 1), (0, 0), (1, 0)), [2]), (((2, 1), (3, 1), (0, 2)), [1]), (((3, 1), (1, 3), (2, 0)), [1]), (((0, 2), (3, 2), (1, 1)), [2]), (((1, 3), (3, 1), (3, 3)), [1]), (((1, 2), (3, 1), (3, 2)), [2]), (((3, 0), (2, 3), (3, 0)), [2]), (((1, 3), (0, 3), (3, 0)), [2]), (((3, 3), (2, 1), (2, 2)), [1]), (((2, 3), (0, 1), (0, 2)), [1]), (((3, 1), (2, 1), (2, 3)), [1]), (((1, 1), (0, 2), (2, 3)), [2]), (((1, 0), (2, 3), (2, 2)), [1]), (((1, 1), (3, 1), (2, 0)), [1]), (((2, 0), (1, 2), (3, 0)), [1]), (((1, 3), (1, 0), (2, 3)), [2]), (((1, 3), (3, 0), (1, 3)), [1]), (((2, 2), (1, 1), (2, 2)), [2]), (((2, 0), (1, 1), (3, 1)), [1]), (((3, 1), (2, 2), (2, 2)), [2]), (((3, 0), (1, 1), (0, 0)), [2]), (((2, 1), (2, 1), (0, 3)), [2]), (((2, 3), (1, 3), (0, 3)), [1]), (((0, 2), (0, 3), (1, 0)), [2]), (((0, 0), (2, 1), (3, 3)), [2]), (((1, 3), (0, 2), (1, 3)), [1]), (((2, 2), (3, 0), (3, 2)), [1]), (((2, 0), (2, 2), (1, 0)), [2]), (((2, 1), (1, 1), (0, 0)), [2]), (((0, 1), (1, 0), (3, 1)), [1]), (((2, 2), (0, 3), (1, 3)), [1]), (((0, 2), (1, 3), (1, 0)), [2]), (((2, 2), (1, 2), (1, 3)), [1]), (((3, 2), (1, 1), (3, 3)), [2]), (((2, 2), (0, 3), (2, 2)), [1]), (((3, 3), (2, 0), (3, 1)), [2]), (((3, 0), (2, 0), (2, 1)), [2]), (((2, 2), (3, 1), (0, 0)), [2]), (((0, 1), (2, 1), (3, 0)), [2]), (((1, 0), (2, 3), (1, 0)), [2]), (((2, 1), (2, 3), (3, 1)), [1]), (((3, 0), (3, 2), (0, 2)), [1]), (((1, 1), (2, 2), (3, 0)), [2]), (((3, 1), (0, 2), (1, 3)), [1]), (((2, 3), (3, 1), (0, 0)), [1]), (((0, 1), (1, 3), (2, 2)), [1]), (((3, 0), (3, 0), (2, 0)), [2]), (((1, 0), (3, 3), (2, 0)), [2]), (((3, 1), (1, 0), (1, 2)), [1]), (((2, 0), (3, 3), (0, 3)), [2]), (((2, 0), (0, 3), (0, 0)), [1]), (((1, 0), (1, 0), (0, 3)), [2]), (((1, 2), (2, 3), (3, 3)), [1]), (((3, 2), (2, 2), (3, 2)), [1]), (((2, 3), (3, 0), (1, 0)), [2, 1]), (((3, 3), (1, 2), (1, 0)), [2]), (((2, 2), (3, 3), (0, 0)), [2]), (((0, 0), (0, 0), (1, 0)), [1]), (((1, 1), (2, 1), (3, 3)), [2]), (((2, 3), (3, 3), (1, 1)), [2]), (((0, 0), (3, 1), (2, 1)), [2]), (((1, 0), (2, 3), (0, 3)), [1]), (((0, 0), (3, 3), (2, 2)), [2]), (((2, 2), (1, 1), (0, 2)), [2]), (((0, 1), (2, 3), (0, 3)), [2]), (((0, 2), (3, 3), (3, 3)), [1]), (((1, 1), (2, 1), (0, 2)), [2]), (((0, 1), (3, 1), (1, 2)), [1]), (((2, 3), (1, 1), (3, 1)), [2]), (((0, 1), (2, 2), (3, 0)), [2]), (((1, 3), (1, 0), (3, 3)), [1]), (((0, 1), (2, 0), (1, 2)), [1]), (((1, 0), (2, 2), (2, 1)), [2]), (((3, 0), (2, 1), (1, 3)), [1]), (((3, 2), (1, 1), (2, 0)), [1]), (((1, 3), (1, 2), (1, 1)), [1]), (((1, 2), (2, 2), (0, 1)), [1]), (((0, 0), (0, 1), (2, 2)), [1]), (((3, 1), (0, 1), (1, 0)), [1]), (((0, 1), (2, 1), (3, 2)), [1]), (((3, 1), (2, 1), (0, 3)), [1]), (((1, 1), (2, 3), (0, 1)), [2]), (((0, 3), (3, 0), (2, 3)), [2]), (((1, 0), (3, 3), (3, 2)), [2]), (((2, 0), (2, 3), (1, 3)), [2]), (((0, 0), (2, 2), (1, 0)), [2]), (((1, 2), (0, 1), (3, 1)), [2]), (((2, 3), (2, 0), (2, 1)), [2]), (((1, 1), (3, 1), (0, 3)), [2]), (((0, 1), (0, 2), (3, 0)), [1]), (((0, 0), (3, 1), (1, 2)), [1]), (((3, 2), (0, 3), (1, 1)), [2]), (((2, 0), (1, 0), (3, 1)), [1])]\n",
            "Reduce output: [((3, 1), (3, 1), (0, 0)), ((3, 2), (0, 0), (2, 3)), ((0, 0), (3, 0), (0, 3)), ((2, 1), (1, 0), (0, 1)), ((0, 1), (0, 3), (2, 1)), ((2, 1), (3, 1), (0, 2)), ((3, 1), (1, 3), (2, 0)), ((1, 3), (3, 1), (3, 3)), ((3, 3), (2, 1), (2, 2)), ((2, 3), (0, 1), (0, 2)), ((3, 1), (2, 1), (2, 3)), ((1, 0), (2, 3), (2, 2)), ((1, 1), (3, 1), (2, 0)), ((2, 0), (1, 2), (3, 0)), ((1, 3), (3, 0), (1, 3)), ((2, 0), (1, 1), (3, 1)), ((2, 3), (1, 3), (0, 3)), ((1, 3), (0, 2), (1, 3)), ((2, 2), (3, 0), (3, 2)), ((0, 1), (1, 0), (3, 1)), ((2, 2), (0, 3), (1, 3)), ((2, 2), (1, 2), (1, 3)), ((2, 2), (0, 3), (2, 2)), ((2, 1), (2, 3), (3, 1)), ((3, 0), (3, 2), (0, 2)), ((3, 1), (0, 2), (1, 3)), ((2, 3), (3, 1), (0, 0)), ((0, 1), (1, 3), (2, 2)), ((3, 1), (1, 0), (1, 2)), ((2, 0), (0, 3), (0, 0)), ((1, 2), (2, 3), (3, 3)), ((3, 2), (2, 2), (3, 2)), ((0, 0), (0, 0), (1, 0)), ((1, 0), (2, 3), (0, 3)), ((0, 2), (3, 3), (3, 3)), ((0, 1), (3, 1), (1, 2)), ((1, 3), (1, 0), (3, 3)), ((0, 1), (2, 0), (1, 2)), ((3, 0), (2, 1), (1, 3)), ((3, 2), (1, 1), (2, 0)), ((1, 3), (1, 2), (1, 1)), ((1, 2), (2, 2), (0, 1)), ((0, 0), (0, 1), (2, 2)), ((3, 1), (0, 1), (1, 0)), ((0, 1), (2, 1), (3, 2)), ((3, 1), (2, 1), (0, 3)), ((0, 1), (0, 2), (3, 0)), ((0, 0), (3, 1), (1, 2)), ((2, 0), (1, 0), (3, 1))]\n"
          ]
        }
      ]
    },
    {
      "cell_type": "markdown",
      "metadata": {
        "id": "j8I58V2VwhSm"
      },
      "source": [
        "### Natural Join\n",
        "\n",
        "**The Map Function:** Для каждого кортежа $(a, b)$ отношения $R$, создайте пару $(b,(R, a))$. Для каждого кортежа $(b, c)$ отношения $S$, создайте пару $(b,(S, c))$.\n",
        "\n",
        "**The Reduce Function:** Каждый ключ $b$ будет асоциирован со списком пар, которые принимают форму либо $(R, a)$, либо $(S, c)$. Создайте все пары, одни, состоящие из  первого компонента $R$, а другие, из первого компонента $S$, то есть $(R, a)$ и $(S, c)$. На выходе вы получаете последовательность пар ключ-значение из списков ключей и значений. Ключ не нужен. Каждое значение, это тройка $(a, b, c)$ такая, что $(R, a)$ и $(S, c)$ это принадлежат входному списку значений."
      ]
    },
    {
      "cell_type": "code",
      "metadata": {
        "id": "yHiuuTctw86I",
        "colab": {
          "base_uri": "https://localhost:8080/"
        },
        "outputId": "6e418b11-cd91-41ba-f1c2-52f402fe0bb6"
      },
      "source": [
        "rels = [1, 2]  # Инициализация списка идентификаторов связей\n",
        "\n",
        "class Tuple:  # Определение класса кортежа, хранящего данные и идентификатор связи из массива rels выше\n",
        "  def __init__(self, data: tuple, rel_id: int):\n",
        "    self.data = data\n",
        "    self.rel_id = rel_id\n",
        "\n",
        "def get_random_tuple():  # Функция для генерации случайного кортежа с данными и идентификатором связи\n",
        "  data = (random.randint(0, 3), random.randint(0, 3))\n",
        "  rel_id = rels[random.randint(0, len(rels) - 1)]\n",
        "  return Tuple(data, rel_id)\n",
        "\n",
        "def RECORDREADER(count):  # Функция для создания списка случайных кортежей заданного количества\n",
        "  return [get_random_tuple() for i in range(count)]\n",
        "\n",
        "def MAP(t: Tuple):  # Функция для преобразования данных кортежа в соответствии с условием\n",
        "  if t.rel_id == rels[0]:\n",
        "    return (t.data[1], (t.rel_id, t.data[0]))\n",
        "  else:\n",
        "    return (t.data[0], (t.rel_id, t.data[1]))\n",
        "\n",
        "def REDUCE(key, values: Iterator[NamedTuple]):  # Функция для объединения данных по ключу\n",
        "  res = []\n",
        "  for v in values:\n",
        "    res.append((v[0], key, v[1]))\n",
        "  return res\n",
        "\n",
        "def group_by_key(iterable):  # Функция для группировки данных по ключу\n",
        "  t = {}\n",
        "  for (k2, v2) in iterable:\n",
        "    t[k2] = t.get(k2, []) + [v2]\n",
        "  return t.items()\n",
        "\n",
        "record = RECORDREADER(100)  # Создание списка случайных кортежей\n",
        "\n",
        "map_output = list(map(lambda x: MAP(x), RECORDREADER(100)))  # Применение функции MAP к каждому элементу\n",
        "print(\"MAP output:\", map_output)\n",
        "\n",
        "shuffle_output = group_by_key(map_output)  # Группировка данных по ключу\n",
        "shuffle_output = list(shuffle_output)\n",
        "print(\"Shuffle output:\", shuffle_output)\n",
        "\n",
        "reduce_output = list(map(lambda x: REDUCE(*x), shuffle_output))  # Применение функции REDUCE к каждой группе\n",
        "print(\"Reduce output:\", reduce_output)"
      ],
      "execution_count": 108,
      "outputs": [
        {
          "output_type": "stream",
          "name": "stdout",
          "text": [
            "MAP output: [(0, (2, 1)), (2, (2, 1)), (2, (1, 2)), (2, (2, 3)), (2, (2, 1)), (1, (2, 2)), (0, (2, 1)), (3, (1, 1)), (1, (1, 1)), (1, (2, 1)), (1, (1, 0)), (1, (2, 2)), (1, (1, 3)), (0, (2, 2)), (2, (1, 2)), (3, (1, 2)), (1, (1, 0)), (1, (2, 1)), (2, (2, 2)), (3, (1, 0)), (2, (2, 1)), (0, (1, 2)), (1, (2, 2)), (3, (2, 2)), (1, (2, 1)), (1, (2, 0)), (3, (2, 2)), (0, (2, 0)), (2, (2, 0)), (3, (2, 1)), (1, (2, 3)), (0, (2, 3)), (1, (2, 3)), (0, (1, 0)), (3, (2, 2)), (0, (2, 0)), (3, (1, 1)), (2, (2, 0)), (2, (1, 0)), (2, (1, 1)), (1, (1, 3)), (2, (2, 0)), (2, (1, 0)), (3, (1, 0)), (3, (2, 3)), (3, (1, 1)), (1, (2, 0)), (2, (1, 3)), (3, (2, 1)), (2, (2, 1)), (1, (2, 0)), (1, (1, 2)), (2, (1, 3)), (0, (1, 2)), (0, (1, 3)), (2, (2, 3)), (2, (1, 0)), (3, (1, 1)), (1, (2, 0)), (2, (1, 0)), (2, (1, 1)), (0, (1, 3)), (2, (2, 2)), (3, (2, 2)), (0, (1, 0)), (3, (2, 1)), (2, (2, 2)), (1, (2, 3)), (2, (2, 3)), (0, (2, 3)), (3, (1, 2)), (3, (2, 1)), (1, (1, 1)), (0, (2, 0)), (0, (2, 3)), (1, (2, 0)), (1, (2, 3)), (0, (2, 1)), (1, (2, 2)), (0, (2, 2)), (2, (1, 2)), (0, (1, 0)), (0, (1, 3)), (0, (1, 1)), (3, (1, 1)), (2, (1, 2)), (2, (2, 2)), (0, (2, 0)), (1, (2, 1)), (3, (2, 1)), (1, (2, 3)), (3, (1, 0)), (1, (1, 0)), (0, (1, 1)), (3, (2, 3)), (0, (1, 1)), (1, (2, 0)), (2, (1, 1)), (3, (2, 0)), (2, (1, 0))]\n",
            "Shuffle output: [(0, [(2, 1), (2, 1), (2, 2), (1, 2), (2, 0), (2, 3), (1, 0), (2, 0), (1, 2), (1, 3), (1, 3), (1, 0), (2, 3), (2, 0), (2, 3), (2, 1), (2, 2), (1, 0), (1, 3), (1, 1), (2, 0), (1, 1), (1, 1)]), (2, [(2, 1), (1, 2), (2, 3), (2, 1), (1, 2), (2, 2), (2, 1), (2, 0), (2, 0), (1, 0), (1, 1), (2, 0), (1, 0), (1, 3), (2, 1), (1, 3), (2, 3), (1, 0), (1, 0), (1, 1), (2, 2), (2, 2), (2, 3), (1, 2), (1, 2), (2, 2), (1, 1), (1, 0)]), (1, [(2, 2), (1, 1), (2, 1), (1, 0), (2, 2), (1, 3), (1, 0), (2, 1), (2, 2), (2, 1), (2, 0), (2, 3), (2, 3), (1, 3), (2, 0), (2, 0), (1, 2), (2, 0), (2, 3), (1, 1), (2, 0), (2, 3), (2, 2), (2, 1), (2, 3), (1, 0), (2, 0)]), (3, [(1, 1), (1, 2), (1, 0), (2, 2), (2, 2), (2, 1), (2, 2), (1, 1), (1, 0), (2, 3), (1, 1), (2, 1), (1, 1), (2, 2), (2, 1), (1, 2), (2, 1), (1, 1), (2, 1), (1, 0), (2, 3), (2, 0)])]\n",
            "Reduce output: [[(2, 0, 1), (2, 0, 1), (2, 0, 2), (1, 0, 2), (2, 0, 0), (2, 0, 3), (1, 0, 0), (2, 0, 0), (1, 0, 2), (1, 0, 3), (1, 0, 3), (1, 0, 0), (2, 0, 3), (2, 0, 0), (2, 0, 3), (2, 0, 1), (2, 0, 2), (1, 0, 0), (1, 0, 3), (1, 0, 1), (2, 0, 0), (1, 0, 1), (1, 0, 1)], [(2, 2, 1), (1, 2, 2), (2, 2, 3), (2, 2, 1), (1, 2, 2), (2, 2, 2), (2, 2, 1), (2, 2, 0), (2, 2, 0), (1, 2, 0), (1, 2, 1), (2, 2, 0), (1, 2, 0), (1, 2, 3), (2, 2, 1), (1, 2, 3), (2, 2, 3), (1, 2, 0), (1, 2, 0), (1, 2, 1), (2, 2, 2), (2, 2, 2), (2, 2, 3), (1, 2, 2), (1, 2, 2), (2, 2, 2), (1, 2, 1), (1, 2, 0)], [(2, 1, 2), (1, 1, 1), (2, 1, 1), (1, 1, 0), (2, 1, 2), (1, 1, 3), (1, 1, 0), (2, 1, 1), (2, 1, 2), (2, 1, 1), (2, 1, 0), (2, 1, 3), (2, 1, 3), (1, 1, 3), (2, 1, 0), (2, 1, 0), (1, 1, 2), (2, 1, 0), (2, 1, 3), (1, 1, 1), (2, 1, 0), (2, 1, 3), (2, 1, 2), (2, 1, 1), (2, 1, 3), (1, 1, 0), (2, 1, 0)], [(1, 3, 1), (1, 3, 2), (1, 3, 0), (2, 3, 2), (2, 3, 2), (2, 3, 1), (2, 3, 2), (1, 3, 1), (1, 3, 0), (2, 3, 3), (1, 3, 1), (2, 3, 1), (1, 3, 1), (2, 3, 2), (2, 3, 1), (1, 3, 2), (2, 3, 1), (1, 3, 1), (2, 3, 1), (1, 3, 0), (2, 3, 3), (2, 3, 0)]]\n"
          ]
        }
      ]
    },
    {
      "cell_type": "markdown",
      "metadata": {
        "id": "kYdlr0YUxE27"
      },
      "source": [
        "### Grouping and Aggregation (Группировка и аггрегация)\n",
        "\n",
        "**The Map Function:** Для каждого кортежа $(a, b, c$) создайте пару $(a, b)$.\n",
        "\n",
        "**The Reduce Function:** Ключ представляет ту или иную группу. Примение аггрегирующую операцию $\\theta$ к списку значений $[b1, b2, . . . , bn]$ ассоциированных с ключом $a$. Возвращайте в выходной поток $(a, x)$, где $x$ результат применения  $\\theta$ к списку. Например, если $\\theta$ это $SUM$, тогда $x = b1 + b2 + · · · + bn$, а если $\\theta$ is $MAX$, тогда $x$ это максимальное из значений $b1, b2, . . . , bn$."
      ]
    },
    {
      "cell_type": "code",
      "metadata": {
        "id": "MLPckfEGxico",
        "colab": {
          "base_uri": "https://localhost:8080/"
        },
        "outputId": "3ac9a819-1fe0-4c5b-b0f4-e0cad436c676"
      },
      "source": [
        "def get_random_tuple():  # Функция для генерации случайного кортежа с тремя случайными значениями от 0 до 3\n",
        "  return (random.randint(0, 3), random.randint(0, 3), random.randint(0, 3))\n",
        "\n",
        "def RECORDREADER(count):  # Функция для создания списка случайных кортежей заданного количества\n",
        "  return [get_random_tuple() for i in range(count)]\n",
        "\n",
        "def MAP(t: Tuple):  # Функция для преобразования входного кортежа, возвращающая первые два элемента кортежа\n",
        "  return (t[0], t[1])\n",
        "\n",
        "def tetta(values):  # Функция для вычисления суммы значений в переданном списке\n",
        "  return sum(values)\n",
        "\n",
        "def REDUCE(key, values: Iterator[NamedTuple]):  # Функция для вычисления суммы значений в переданных значениях и возврата пары (ключ, сумма)\n",
        "  x = tetta(values)\n",
        "  return (key, x)\n",
        "\n",
        "def group_by_key(iterable):  # Функция для группировки данных по ключу\n",
        "  t = {}\n",
        "  for (k2, v2) in iterable:\n",
        "    t[k2] = t.get(k2, []) + [v2]\n",
        "  return t.items()\n",
        "\n",
        "record = RECORDREADER(100)  # Создание списка случайных кортежей\n",
        "\n",
        "map_output = list(map(lambda x: MAP(x), RECORDREADER(100)))  # Применение функции MAP к каждому элементу\n",
        "print(\"MAP output:\", map_output)\n",
        "\n",
        "shuffle_output = group_by_key(map_output)  # Группировка данных по ключу\n",
        "shuffle_output = list(shuffle_output)\n",
        "print(\"Shuffle output:\", shuffle_output)\n",
        "\n",
        "reduce_output = list(map(lambda x: REDUCE(*x), shuffle_output))  # Применение функции REDUCE к каждой группе\n",
        "print(\"Reduce output:\", reduce_output)"
      ],
      "execution_count": 109,
      "outputs": [
        {
          "output_type": "stream",
          "name": "stdout",
          "text": [
            "MAP output: [(3, 2), (1, 2), (2, 3), (1, 0), (1, 3), (1, 1), (0, 2), (2, 3), (3, 3), (3, 0), (1, 2), (2, 0), (2, 1), (3, 3), (1, 2), (3, 2), (3, 3), (0, 3), (2, 0), (1, 0), (0, 2), (3, 1), (1, 1), (1, 0), (0, 1), (1, 3), (0, 3), (3, 2), (1, 1), (1, 0), (3, 3), (0, 0), (0, 1), (2, 0), (3, 1), (0, 2), (0, 0), (3, 3), (3, 2), (2, 2), (1, 0), (1, 3), (0, 2), (1, 1), (3, 1), (2, 2), (2, 2), (1, 3), (2, 0), (1, 1), (0, 3), (0, 1), (0, 0), (1, 0), (1, 2), (3, 0), (3, 0), (1, 1), (1, 3), (2, 3), (2, 3), (1, 3), (0, 0), (1, 1), (0, 1), (1, 0), (2, 3), (2, 3), (3, 3), (3, 2), (2, 0), (1, 1), (1, 0), (2, 2), (0, 3), (0, 3), (1, 3), (2, 2), (2, 1), (2, 2), (2, 0), (3, 1), (0, 3), (0, 0), (1, 3), (3, 3), (1, 0), (3, 3), (0, 3), (1, 0), (1, 3), (3, 2), (2, 2), (2, 2), (3, 3), (3, 1), (0, 0), (1, 0), (0, 2), (2, 0)]\n",
            "Shuffle output: [(3, [2, 3, 0, 3, 2, 3, 1, 2, 3, 1, 3, 2, 1, 0, 0, 3, 2, 1, 3, 3, 2, 3, 1]), (1, [2, 0, 3, 1, 2, 2, 0, 1, 0, 3, 1, 0, 0, 3, 1, 3, 1, 0, 2, 1, 3, 3, 1, 0, 1, 0, 3, 3, 0, 0, 3, 0]), (2, [3, 3, 0, 1, 0, 0, 2, 2, 2, 0, 3, 3, 3, 3, 0, 2, 2, 1, 2, 0, 2, 2, 0]), (0, [2, 3, 2, 1, 3, 0, 1, 2, 0, 2, 3, 1, 0, 0, 1, 3, 3, 3, 0, 3, 0, 2])]\n",
            "Reduce output: [(3, 44), (1, 43), (2, 36), (0, 35)]\n"
          ]
        }
      ]
    },
    {
      "cell_type": "markdown",
      "metadata": {
        "id": "03IffTEOJgOb"
      },
      "source": [
        "#"
      ]
    },
    {
      "cell_type": "markdown",
      "metadata": {
        "id": "IIrRgvG4RIS4"
      },
      "source": [
        "### Matrix-Vector multiplication\n",
        "\n",
        "Случай, когда вектор не помещается в памяти Map задачи\n"
      ]
    },
    {
      "cell_type": "code",
      "metadata": {
        "id": "KQhDbiL3zS9r"
      },
      "source": [],
      "execution_count": 109,
      "outputs": []
    },
    {
      "cell_type": "markdown",
      "metadata": {
        "id": "GIo2t7nNxvA9"
      },
      "source": [
        "## Matrix multiplication (Перемножение матриц)\n",
        "\n",
        "Если у нас есть матрица $M$ с элементами $m_{ij}$ в строке $i$ и столбце $j$, и матрица $N$ с элементами $n_{jk}$ в строке $j$ и столбце $k$, тогда их произведение $P = MN$ есть матрица $P$ с элементами $p_{ik}$ в строке $i$ и столбце $k$, где\n",
        "\n",
        "$$p_{ik} =\\sum_{j} m_{ij}n_{jk}$$\n",
        "\n",
        "Необходимым требованием является одинаковое количество столбцов в $M$ и строк в $N$, чтобы операция суммирования по  $j$ была осмысленной. Мы можем размышлять о матрице, как об отношении с тремя атрибутами: номер строки, номер столбца, само значение. Таким образом матрица $M$ предстваляется как отношение $ M(I, J, V )$, с кортежами $(i, j, m_{ij})$, и, аналогично, матрица $N$ представляется как отношение $N(J, K, W)$, с кортежами $(j, k, n_{jk})$. Так как большие матрицы как правило разреженные (большинство значений равно 0), и так как мы можем нулевыми значениями пренебречь (не хранить), такое реляционное представление достаточно эффективно для больших матриц. Однако, возможно, что координаты $i$, $j$, и $k$ неявно закодированы в смещение позиции элемента относительно начала файла, вместо явного хранения. Тогда, функция Map (или Reader) должна быть разработана таким образом, чтобы реконструировать компоненты $I$, $J$, и $K$ кортежей из смещения.\n",
        "\n",
        "Произведение $MN$ это фактически join, за которым следуют группировка по ключу и аггрегация. Таким образом join отношений $M(I, J, V )$ и $N(J, K, W)$, имеющих общим только атрибут $J$, создаст кортежи $(i, j, k, v, w)$ из каждого кортежа $(i, j, v) \\in M$ и кортежа $(j, k, w) \\in N$. Такой 5 компонентный кортеж представляет пару элементов матрицы $(m_{ij} , n_{jk})$. Что нам хотелось бы получить на самом деле, это произведение этих элементов, то есть, 4 компонентный кортеж$(i, j, k, v \\times w)$, так как он представляет произведение $m_{ij}n_{jk}$. Мы представляем отношение как результат одной MapReduce операции, в которой мы можем произвести группировку и аггрегацию, с $I$ и $K$  атрибутами, по которым идёт группировка, и суммой  $V \\times W$.\n",
        "\n",
        "\n",
        "\n"
      ]
    },
    {
      "cell_type": "code",
      "metadata": {
        "id": "1MBkGaLAYVCt"
      },
      "source": [
        "# MapReduce model\n",
        "def flatten(nested_iterable):\n",
        "  for iterable in nested_iterable:\n",
        "    for element in iterable:\n",
        "      yield element\n",
        "\n",
        "def groupbykey(iterable):\n",
        "  t = {}\n",
        "  for (k2, v2) in iterable:\n",
        "    t[k2] = t.get(k2, []) + [v2]\n",
        "  return t.items()\n",
        "\n",
        "def MapReduce(RECORDREADER, MAP, REDUCE):\n",
        "  return flatten(map(lambda x: REDUCE(*x), groupbykey(flatten(map(lambda x: MAP(*x), RECORDREADER())))))"
      ],
      "execution_count": 110,
      "outputs": []
    },
    {
      "cell_type": "markdown",
      "metadata": {
        "id": "sMspsOT0ZB35"
      },
      "source": [
        "Реализуйте перемножение матриц с использованием модельного кода MapReduce для одной машины в случае, когда одна матрица хранится в памяти, а другая генерируется RECORDREADER-ом."
      ]
    },
    {
      "cell_type": "code",
      "metadata": {
        "id": "psP1XekbsEjS"
      },
      "source": [
        "import numpy as np\n",
        "I = 2\n",
        "J = 3\n",
        "K = 4*10\n",
        "small_mat = np.random.rand(I,J) # it is legal to access this from RECORDREADER, MAP, REDUCE\n",
        "big_mat = np.random.rand(J,K)\n",
        "\n",
        "def RECORDREADER():\n",
        "  for j in range(big_mat.shape[0]):\n",
        "    for k in range(big_mat.shape[1]):\n",
        "      yield ((j, k), big_mat[j,k])\n",
        "\n",
        "def MAP(k1, v1):\n",
        "  (j, k) = k1\n",
        "  w = v1\n",
        "  for i in range(small_mat.shape[0]):\n",
        "    yield ((i, k), w * small_mat[i][j])\n",
        "\n",
        "def REDUCE(key, values):\n",
        "  (i, k) = key\n",
        "  el_value = 0\n",
        "  for v in values:\n",
        "    el_value += v\n",
        "  yield ((i, k), el_value)"
      ],
      "execution_count": 111,
      "outputs": []
    },
    {
      "cell_type": "markdown",
      "metadata": {
        "id": "rnt306LHhHrm"
      },
      "source": [
        "Проверьте своё решение"
      ]
    },
    {
      "cell_type": "code",
      "metadata": {
        "id": "Ewy_ZNYqW5a2",
        "colab": {
          "base_uri": "https://localhost:8080/"
        },
        "outputId": "4cc76e12-c2a8-4a4d-c9c3-03b2aedf3abf"
      },
      "source": [
        "# CHECK THE SOLUTION\n",
        "reference_solution = np.matmul(small_mat, big_mat)\n",
        "solution = MapReduce(RECORDREADER, MAP, REDUCE)\n",
        "\n",
        "def asmatrix(reduce_output):\n",
        "  reduce_output = list(reduce_output)\n",
        "  I = max(i for ((i,k), vw) in reduce_output)+1\n",
        "  K = max(k for ((i,k), vw) in reduce_output)+1\n",
        "  mat = np.empty(shape=(I,K))\n",
        "  for ((i,k), vw) in reduce_output:\n",
        "    mat[i,k] = vw\n",
        "  return mat\n",
        "\n",
        "np.allclose(reference_solution, asmatrix(solution)) # should return true"
      ],
      "execution_count": 112,
      "outputs": [
        {
          "output_type": "execute_result",
          "data": {
            "text/plain": [
              "True"
            ]
          },
          "metadata": {},
          "execution_count": 112
        }
      ]
    },
    {
      "cell_type": "code",
      "metadata": {
        "id": "TK7v4CEcfxqf",
        "colab": {
          "base_uri": "https://localhost:8080/"
        },
        "outputId": "35178acc-9dff-4bf9-9993-9cb7516e1b5b"
      },
      "source": [
        "reduce_output = list(MapReduce(RECORDREADER, MAP, REDUCE))\n",
        "max(i for ((i,k), vw) in reduce_output)"
      ],
      "execution_count": 113,
      "outputs": [
        {
          "output_type": "execute_result",
          "data": {
            "text/plain": [
              "1"
            ]
          },
          "metadata": {},
          "execution_count": 113
        }
      ]
    },
    {
      "cell_type": "markdown",
      "metadata": {
        "id": "i4yyg3kOZqJJ"
      },
      "source": [
        "Реализуйте перемножение матриц  с использованием модельного кода MapReduce для одной машины в случае, когда обе матрицы генерируются в RECORDREADER. Например, сначала одна, а потом другая."
      ]
    },
    {
      "cell_type": "code",
      "metadata": {
        "id": "3B7rIAJCaHZq",
        "colab": {
          "base_uri": "https://localhost:8080/"
        },
        "outputId": "ef3d3f26-8dfe-4e75-a00e-3a0efe9e8b8a"
      },
      "source": [
        "import numpy as np  # Импорт библиотеки numpy под псевдонимом np\n",
        "I = 2  # Задание значения переменной I равным 2\n",
        "J = 3  # Задание значения переменной J равным 3\n",
        "K = 4*10  # Задание значения переменной K равным 40\n",
        "small_mat = np.random.rand(I,J)  # Создание случайной матрицы размером IxJ\n",
        "big_mat = np.random.rand(J,K)  # Создание случайной матрицы размером JxK\n",
        "reference_solution = np.matmul(small_mat, big_mat)  # Вычисление матричного произведения small_mat и big_mat\n",
        "\n",
        "def RECORDREADER():  # Определение функции RECORDREADER без аргументов\n",
        "  for i in range(small_mat.shape[0]):  # Цикл по строкам матрицы small_mat\n",
        "    for j in range(small_mat.shape[1]):  # Цикл по столбцам матрицы small_mat\n",
        "      yield ((0, i, j), small_mat[i,j])  # Генерация кортежа для первой матрицы\n",
        "\n",
        "  for j in range(big_mat.shape[0]):  # Цикл по строкам матрицы big_mat\n",
        "    for k in range(big_mat.shape[1]):  # Цикл по столбцам матрицы big_mat\n",
        "      yield ((1, j, k), big_mat[j,k])  # Генерация кортежа для второй матрицы\n",
        "\n",
        "def MAP_JOIN(k1, v1):  # Определение функции MAP_JOIN с ключем k1 и значением v1\n",
        "  (mat_num, i, j) = k1  # Распаковка ключа\n",
        "  w = v1  # Присвоение значения из значения\n",
        "  if mat_num == 0:  # Если номер матрицы равен 0\n",
        "    yield (j, (mat_num, i, w))  # Генерация значения для первой матрицы\n",
        "  else:  # Иначе\n",
        "    yield (i, (mat_num, j, w))  # Генерация значения для второй матрицы\n",
        "\n",
        "def REDUCE_JOIN(key, values):  # Определение функции REDUCE_JOIN с ключем key и значениями values\n",
        "  from_first_mat = [v for v in values if v[0] == 0]  # Фильтрация значений для первой матрицы\n",
        "  from_second_mat = [v for v in values if v[0] == 1]  # Фильтрация значений для второй матрицы\n",
        "  for f in from_first_mat:  # Цикл по элементам из первой матрицы\n",
        "    for s in from_second_mat:  # Цикл по элементам из второй матрицы\n",
        "      yield ((f[1], s[1]), f[2] * s[2])  # Генерация умноженных значений\n",
        "\n",
        "\n",
        "def MAP_MUL(k1, v1):  # Определение функции MAP_MUL с ключем k1 и значением v1\n",
        "  (i, k) = k1  # Распаковка ключа\n",
        "  yield ((i, k), v1)  # Генерация кортежа с ключом (i, k) и значением v1\n",
        "\n",
        "def REDUCE_MUL(key, values):  # Определение функции REDUCE_MUL с ключем key и значениями values\n",
        "  res_el_value = 0  # Инициализация переменной для хранения результата\n",
        "  for v in values:  # Цикл по значениям\n",
        "    res_el_value += v  # Суммирование значений\n",
        "  yield (key, res_el_value)  # Генерация кортежа с ключом key и суммой значений\n",
        "\n",
        "def GET_JOINED():  # Определение функции GET_JOINED без аргументов\n",
        "  for j in joined:  # Цикл по элементам из joined\n",
        "    yield j  # Генерация элемента\n",
        "\n",
        "\n",
        "joined = MapReduce(RECORDREADER, MAP_JOIN, REDUCE_JOIN)  # Применение MapReduce к функциям RECORDREADER, MAP_JOIN и REDUCE_JOIN\n",
        "solution = MapReduce(GET_JOINED, MAP_MUL, REDUCE_MUL)  # Применение MapReduce к функциям GET_JOINED, MAP_MUL и REDUCE_MUL\n",
        "np.allclose(reference_solution, asmatrix(solution))  # Проверка на равенство решения с эталонным значением и вывод результата (True/False)"
      ],
      "execution_count": 114,
      "outputs": [
        {
          "output_type": "execute_result",
          "data": {
            "text/plain": [
              "True"
            ]
          },
          "metadata": {},
          "execution_count": 114
        }
      ]
    },
    {
      "cell_type": "markdown",
      "metadata": {
        "id": "mXyzQi1DaIwo"
      },
      "source": [
        "Реализуйте перемножение матриц с использованием модельного кода MapReduce Distributed, когда каждая матрица генерируется в своём RECORDREADER."
      ]
    },
    {
      "cell_type": "code",
      "metadata": {
        "id": "TDM_s78Rb5eR",
        "colab": {
          "base_uri": "https://localhost:8080/"
        },
        "outputId": "cb9c1c7d-301e-4fb9-952f-51208e0fb175"
      },
      "source": [
        "# Определение размеров матриц\n",
        "I = 2\n",
        "J = 3\n",
        "K = 4*10\n",
        "\n",
        "# Генерация случайных матриц\n",
        "small_mat = np.random.rand(I, J)\n",
        "big_mat = np.random.rand(J, K)\n",
        "\n",
        "# Получение эталонного решения через умножение матриц\n",
        "reference_solution = np.matmul(small_mat, big_mat)\n",
        "\n",
        "# Функция для \"разглаживания\" вложенных итерируемых объектов\n",
        "def flatten(nested_iterable):\n",
        "  for iterable in nested_iterable:\n",
        "    for element in iterable:\n",
        "      yield element\n",
        "\n",
        "# Функция для группировки элементов по ключу\n",
        "def groupbykey(iterable):\n",
        "  t = {}\n",
        "  for (k2, v2) in iterable:\n",
        "    t[k2] = t.get(k2, []) + [v2]\n",
        "  return t.items()\n",
        "\n",
        "# Функция для распределенной группировки элементов по ключу\n",
        "def groupbykey_distributed(map_partitions, PARTITIONER):\n",
        "  global reducers\n",
        "  partitions = [dict() for _ in range(reducers)]\n",
        "  for map_partition in map_partitions:\n",
        "    for (k2, v2) in map_partition:\n",
        "      p = partitions[PARTITIONER(k2)]\n",
        "      p[k2] = p.get(k2, []) + [v2]\n",
        "  return [(partition_id, sorted(partition.items(), key=lambda x: x[0])) for (partition_id, partition) in enumerate(partitions)]\n",
        "\n",
        "# Функция для определения разделителя (по ключу)\n",
        "def PARTITIONER(obj):\n",
        "  global reducers\n",
        "  return hash(obj) % reducers\n",
        "\n",
        "# Функция для выполнения MapReduce на распределенных данных\n",
        "def MapReduceDistributed(INPUTFORMAT, MAP, REDUCE, PARTITIONER=PARTITIONER, COMBINER=None):\n",
        "  # Разделение данных на части и применение MAP функции\n",
        "  map_partitions = map(lambda record_reader: flatten(map(lambda k1v1: MAP(*k1v1), record_reader)), INPUTFORMAT())\n",
        "\n",
        "  # Применение COMBINER (если есть)\n",
        "  if COMBINER != None:\n",
        "    map_partitions = map(lambda map_partition: flatten(map(lambda k2v2: COMBINER(*k2v2), groupbykey(map_partition))), map_partitions)\n",
        "\n",
        "  # Распределенная группировка данных по ключу (shuffle)\n",
        "  reduce_partitions = groupbykey_distributed(map_partitions, PARTITIONER)\n",
        "\n",
        "  # Применение REDUCE функции\n",
        "  reduce_outputs = map(lambda reduce_partition: (reduce_partition[0], flatten(map(lambda reduce_input_group: REDUCE(*reduce_input_group), reduce_partition[1]))), reduce_partitions)\n",
        "\n",
        "  print(\"{} key-value pairs were sent over a network.\".format(sum([len(vs) for (k,vs) in flatten([partition for (partition_id, partition) in reduce_partitions])])))\n",
        "  return reduce_outputs\n",
        "\n",
        "# Преобразование результата REDUCE в матрицу\n",
        "def asmatrix(reduce_output):\n",
        "  reduce_output = list(reduce_output)\n",
        "  I = max(i for ((i,k), vw) in reduce_output) + 1\n",
        "  K = max(k for ((i,k), vw) in reduce_output) + 1\n",
        "  mat = np.empty(shape=(I,K))\n",
        "  for ((i,k), vw) in reduce_output:\n",
        "    mat[i,k] = vw\n",
        "  return mat\n",
        "\n",
        "# Генератор для вводных данных\n",
        "def INPUTFORMAT():\n",
        "  first_mat = []\n",
        "  for i in range(small_mat.shape[0]):\n",
        "    for j in range(small_mat.shape[1]):\n",
        "      first_mat.append(((0, i, j), small_mat[i,j])) # первая матрица\n",
        "  yield first_mat\n",
        "\n",
        "  second_mat = []\n",
        "  for j in range(big_mat.shape[0]):\n",
        "    for k in range(big_mat.shape[1]):\n",
        "      second_mat.append(((1, j, k), big_mat[j,k])) # вторая матрица\n",
        "  yield second_mat\n",
        "\n",
        "# MAP функция для соединения матриц\n",
        "def MAP_JOIN(k1, v1):\n",
        "  (mat_num, i, j) = k1\n",
        "  w = v1\n",
        "  if mat_num == 0:\n",
        "    yield (j, (mat_num, i, w))\n",
        "  else:\n",
        "    yield (i, (mat_num, j, w))\n",
        "\n",
        "# REDUCE функция для соединения матриц\n",
        "def REDUCE_JOIN(key, values):\n",
        "  from_first_mat = [v for v in values if v[0] == 0]\n",
        "  from_second_mat = [v for v in values if v[0] == 1]\n",
        "  for f in from_first_mat:\n",
        "    for s in from_second_mat:\n",
        "      yield ((f[1], s[1]), f[2] * s[2])\n",
        "\n",
        "# Генератор для получения соединенных данных\n",
        "def GET_JOINED():\n",
        "  for j in joined:\n",
        "    print(\"aa\", j)\n",
        "    yield j[1]\n",
        "\n",
        "# MAP функция для умножения значений\n",
        "def MAP_MUL(k1, v1):\n",
        "  yield (k1, v1)\n",
        "\n",
        "# REDUCE функция для умножения значений\n",
        "def REDUCE_MUL(key, values):\n",
        "  res_val = 0\n",
        "  for v in values:\n",
        "    res_val += v\n",
        "  yield (key, res_val)\n",
        "\n",
        "maps = 4\n",
        "reducers = 2\n",
        "\n",
        "# Выполнение MapReduce для соединения матриц\n",
        "partitioned_output = MapReduceDistributed(INPUTFORMAT, MAP_JOIN, REDUCE_JOIN, COMBINER=None)\n",
        "joined = [(partition_id, list(partition)) for (partition_id, partition) in partitioned_output]\n",
        "print(joined)\n",
        "\n",
        "# Выполнение MapReduce для умножения значений\n",
        "mul_output = MapReduceDistributed(GET_JOINED, MAP_MUL, REDUCE_MUL, COMBINER=None)\n",
        "pre_result = [(partition_id, list(partition)) for (partition_id, partition) in mul_output]\n",
        "print(pre_result)\n",
        "\n",
        "solution = []\n",
        "for p in pre_result:\n",
        "  for v in p[1]:\n",
        "    solution.append(v)\n",
        "\n",
        "print(solution)\n",
        "\n",
        "# Проверка результата на соответствие эталонному решению\n",
        "np.allclose(reference_solution, asmatrix(solution))"
      ],
      "execution_count": 115,
      "outputs": [
        {
          "output_type": "stream",
          "name": "stdout",
          "text": [
            "126 key-value pairs were sent over a network.\n",
            "[(0, [((0, 0), 0.11399392155544598), ((0, 1), 0.15950251928023995), ((0, 2), 0.19438420924937896), ((0, 3), 0.059427548605085194), ((0, 4), 0.2791491989977258), ((0, 5), 0.2219288650360722), ((0, 6), 0.1454256165068832), ((0, 7), 0.014888103238550686), ((0, 8), 0.26596459021829993), ((0, 9), 0.27870955790549257), ((0, 10), 0.05767138119029342), ((0, 11), 0.17728730034378398), ((0, 12), 0.08674129953623859), ((0, 13), 0.18248817185877608), ((0, 14), 0.1543409846493608), ((0, 15), 0.11297198298727318), ((0, 16), 0.21287496234840414), ((0, 17), 0.1727177245188914), ((0, 18), 0.08155557196612753), ((0, 19), 0.05789424065108184), ((0, 20), 0.19495315131142785), ((0, 21), 0.1267316318327103), ((0, 22), 0.14459590153016222), ((0, 23), 0.003329736347973207), ((0, 24), 0.10435712092342407), ((0, 25), 0.022279930259055784), ((0, 26), 0.25215538642855295), ((0, 27), 0.08440854909623957), ((0, 28), 0.1943321248269243), ((0, 29), 0.02458299255302362), ((0, 30), 0.2298962585247782), ((0, 31), 0.24833433747740297), ((0, 32), 0.03274649888071248), ((0, 33), 0.12408317045839584), ((0, 34), 0.05751808024708769), ((0, 35), 0.09542286449986585), ((0, 36), 0.023257834388708654), ((0, 37), 0.2782946175359795), ((0, 38), 0.004731292162057367), ((0, 39), 0.27367689459545946), ((1, 0), 0.3340281479210677), ((1, 1), 0.46737870210043325), ((1, 2), 0.5695899966831991), ((1, 3), 0.1741362497682886), ((1, 4), 0.81797071863614), ((1, 5), 0.6503021103819747), ((1, 6), 0.42613017149731486), ((1, 7), 0.043625532686072874), ((1, 8), 0.7793368126211305), ((1, 9), 0.8166824701244224), ((1, 10), 0.16899027934286637), ((1, 11), 0.5194921604215228), ((1, 12), 0.254171759660567), ((1, 13), 0.53473189826038), ((1, 14), 0.4522542302895006), ((1, 15), 0.3310336352088277), ((1, 16), 0.6237721138264272), ((1, 17), 0.5061022627081493), ((1, 18), 0.23897639702866658), ((1, 19), 0.1696433083107104), ((1, 20), 0.5712571264798361), ((1, 21), 0.37135253956067166), ((1, 22), 0.423698917679613), ((1, 23), 0.009756885719893145), ((1, 24), 0.30579012765581026), ((1, 25), 0.06528526906255394), ((1, 26), 0.738872700998212), ((1, 27), 0.2473362696765162), ((1, 28), 0.5694373774651682), ((1, 29), 0.07203376601839158), ((1, 30), 0.6736483875735738), ((1, 31), 0.7276761574733227), ((1, 32), 0.09595469848542236), ((1, 33), 0.36359194464796435), ((1, 34), 0.16854107267083643), ((1, 35), 0.2796107218989734), ((1, 36), 0.06815075084276827), ((1, 37), 0.8154666003549214), ((1, 38), 0.013863763405988244), ((1, 39), 0.8019356206290918), ((0, 0), 0.1436810999742004), ((0, 1), 0.21523570119968805), ((0, 2), 0.5383246924645465), ((0, 3), 0.3551776258764873), ((0, 4), 0.1924037068302918), ((0, 5), 0.5155359571110104), ((0, 6), 0.5663495715487078), ((0, 7), 0.3690347750460499), ((0, 8), 0.268159346602512), ((0, 9), 0.19186311783945675), ((0, 10), 0.47201339270548737), ((0, 11), 0.367626616937767), ((0, 12), 0.09466140585093558), ((0, 13), 0.29239271202757755), ((0, 14), 0.04553138807345007), ((0, 15), 0.33012911714440596), ((0, 16), 0.08278394410420219), ((0, 17), 0.5317639309968559), ((0, 18), 0.19016697822129255), ((0, 19), 0.516901614942666), ((0, 20), 0.2593163163607464), ((0, 21), 0.44203064643013706), ((0, 22), 0.23226774373466194), ((0, 23), 0.1263909652886365), ((0, 24), 0.22514073249277178), ((0, 25), 0.22241032984612719), ((0, 26), 0.05053748143344837), ((0, 27), 0.40184568992917147), ((0, 28), 0.17570562028693082), ((0, 29), 0.12592251456073514), ((0, 30), 0.5537081703038951), ((0, 31), 0.3290546171240934), ((0, 32), 0.006310260161439905), ((0, 33), 0.31506510116933123), ((0, 34), 0.08260651765619852), ((0, 35), 0.4557045979236227), ((0, 36), 0.20221601317320828), ((0, 37), 0.39912916775001805), ((0, 38), 0.45796653678100907), ((0, 39), 0.034950056166766226), ((1, 0), 0.16093071472841777), ((1, 1), 0.24107579379165128), ((1, 2), 0.6029531895971783), ((1, 3), 0.3978184270450966), ((1, 4), 0.21550270746921968), ((1, 5), 0.5774285557458236), ((1, 6), 0.6343425916966986), ((1, 7), 0.41333919435796135), ((1, 8), 0.3003531801858196), ((1, 9), 0.21489721814122165), ((1, 10), 0.5286808958389042), ((1, 11), 0.41176198002109116), ((1, 12), 0.10602596794932193), ((1, 13), 0.3274958789738369), ((1, 14), 0.05099765262482676), ((1, 15), 0.36976272303212143), ((1, 16), 0.092722559161357), ((1, 17), 0.5956047768111702), ((1, 18), 0.2129974487137927), ((1, 19), 0.5789581674411841), ((1, 20), 0.29044850116103565), ((1, 21), 0.4950985750710416), ((1, 22), 0.26015261585753424), ((1, 23), 0.14156481529419826), ((1, 24), 0.2521699722583357), ((1, 25), 0.24911177149637204), ((1, 26), 0.05660475183666725), ((1, 27), 0.4500892191279705), ((1, 28), 0.1967999344357269), ((1, 29), 0.141040124778398), ((1, 30), 0.6201835287589724), ((1, 31), 0.3685592240592179), ((1, 32), 0.007067837579786988), ((1, 33), 0.3528901986849081), ((1, 34), 0.09252383180546897), ((1, 35), 0.5104141509359501), ((1, 36), 0.22649302890456005), ((1, 37), 0.44704656525111924), ((1, 38), 0.5129476465526772), ((1, 39), 0.039145980367118464)]), (1, [((0, 0), 0.1754012917760284), ((0, 1), 0.6595998568699044), ((0, 2), 0.6401525032000557), ((0, 3), 0.0875029290715809), ((0, 4), 0.6899490939243034), ((0, 5), 0.5236690312483089), ((0, 6), 0.6663724455790851), ((0, 7), 0.315084281631839), ((0, 8), 0.7075802719436703), ((0, 9), 0.5321947806001847), ((0, 10), 0.7250696191814113), ((0, 11), 0.6481086231972076), ((0, 12), 0.5330390785684098), ((0, 13), 0.7131223814518578), ((0, 14), 0.7237765384099905), ((0, 15), 0.2270897005807275), ((0, 16), 0.2764703032273927), ((0, 17), 0.171904698856381), ((0, 18), 0.37194987387044787), ((0, 19), 0.4199243491027778), ((0, 20), 0.5211757197469464), ((0, 21), 0.606335494922425), ((0, 22), 0.14017007391052552), ((0, 23), 0.5313134238274347), ((0, 24), 0.009272639245594105), ((0, 25), 0.5642419893386005), ((0, 26), 0.21629287835025712), ((0, 27), 0.49604400937833115), ((0, 28), 0.4166557624993844), ((0, 29), 0.12857372672330597), ((0, 30), 0.35396895990114946), ((0, 31), 0.2993075645151126), ((0, 32), 0.5854797214900391), ((0, 33), 0.0757100022589517), ((0, 34), 0.45662326541539755), ((0, 35), 0.2680411205691758), ((0, 36), 0.3028601572333395), ((0, 37), 0.6564859679064622), ((0, 38), 0.24243968588764653), ((0, 39), 0.5344144888084986), ((1, 0), 0.18499994647440288), ((1, 1), 0.6956957784055104), ((1, 2), 0.6751841883735236), ((1, 3), 0.09229143657200997), ((1, 4), 0.7277058461407704), ((1, 5), 0.5523262786168357), ((1, 6), 0.7028389900432642), ((1, 7), 0.33232694381320577), ((1, 8), 0.7463018721838883), ((1, 9), 0.561318590804395), ((1, 10), 0.7647483059022091), ((1, 11), 0.683575698827714), ((1, 12), 0.5622090921077123), ((1, 13), 0.7521472679160884), ((1, 14), 0.7633844626198836), ((1, 15), 0.239516950114414), ((1, 16), 0.29159985528578475), ((1, 17), 0.1813120061153117), ((1, 18), 0.39230444690828625), ((1, 19), 0.442904275793535), ((1, 20), 0.5496965232163735), ((1, 21), 0.6395165792131837), ((1, 22), 0.14784073656579705), ((1, 23), 0.5603890026917155), ((1, 24), 0.009780074860006253), ((1, 25), 0.595119549971967), ((1, 26), 0.2281292829284666), ((1, 27), 0.523189505930886), ((1, 28), 0.4394568191610783), ((1, 29), 0.1356097912448607), ((1, 30), 0.3733395459762644), ((1, 31), 0.31568686213203384), ((1, 32), 0.617519495100483), ((1, 33), 0.07985315400851112), ((1, 34), 0.48161150243227924), ((1, 35), 0.28270939430454917), ((1, 36), 0.3194338668208964), ((1, 37), 0.692411485081721), ((1, 38), 0.25570694752782525), ((1, 39), 0.5636597702539238)])]\n",
            "aa (0, [((0, 0), 0.11399392155544598), ((0, 1), 0.15950251928023995), ((0, 2), 0.19438420924937896), ((0, 3), 0.059427548605085194), ((0, 4), 0.2791491989977258), ((0, 5), 0.2219288650360722), ((0, 6), 0.1454256165068832), ((0, 7), 0.014888103238550686), ((0, 8), 0.26596459021829993), ((0, 9), 0.27870955790549257), ((0, 10), 0.05767138119029342), ((0, 11), 0.17728730034378398), ((0, 12), 0.08674129953623859), ((0, 13), 0.18248817185877608), ((0, 14), 0.1543409846493608), ((0, 15), 0.11297198298727318), ((0, 16), 0.21287496234840414), ((0, 17), 0.1727177245188914), ((0, 18), 0.08155557196612753), ((0, 19), 0.05789424065108184), ((0, 20), 0.19495315131142785), ((0, 21), 0.1267316318327103), ((0, 22), 0.14459590153016222), ((0, 23), 0.003329736347973207), ((0, 24), 0.10435712092342407), ((0, 25), 0.022279930259055784), ((0, 26), 0.25215538642855295), ((0, 27), 0.08440854909623957), ((0, 28), 0.1943321248269243), ((0, 29), 0.02458299255302362), ((0, 30), 0.2298962585247782), ((0, 31), 0.24833433747740297), ((0, 32), 0.03274649888071248), ((0, 33), 0.12408317045839584), ((0, 34), 0.05751808024708769), ((0, 35), 0.09542286449986585), ((0, 36), 0.023257834388708654), ((0, 37), 0.2782946175359795), ((0, 38), 0.004731292162057367), ((0, 39), 0.27367689459545946), ((1, 0), 0.3340281479210677), ((1, 1), 0.46737870210043325), ((1, 2), 0.5695899966831991), ((1, 3), 0.1741362497682886), ((1, 4), 0.81797071863614), ((1, 5), 0.6503021103819747), ((1, 6), 0.42613017149731486), ((1, 7), 0.043625532686072874), ((1, 8), 0.7793368126211305), ((1, 9), 0.8166824701244224), ((1, 10), 0.16899027934286637), ((1, 11), 0.5194921604215228), ((1, 12), 0.254171759660567), ((1, 13), 0.53473189826038), ((1, 14), 0.4522542302895006), ((1, 15), 0.3310336352088277), ((1, 16), 0.6237721138264272), ((1, 17), 0.5061022627081493), ((1, 18), 0.23897639702866658), ((1, 19), 0.1696433083107104), ((1, 20), 0.5712571264798361), ((1, 21), 0.37135253956067166), ((1, 22), 0.423698917679613), ((1, 23), 0.009756885719893145), ((1, 24), 0.30579012765581026), ((1, 25), 0.06528526906255394), ((1, 26), 0.738872700998212), ((1, 27), 0.2473362696765162), ((1, 28), 0.5694373774651682), ((1, 29), 0.07203376601839158), ((1, 30), 0.6736483875735738), ((1, 31), 0.7276761574733227), ((1, 32), 0.09595469848542236), ((1, 33), 0.36359194464796435), ((1, 34), 0.16854107267083643), ((1, 35), 0.2796107218989734), ((1, 36), 0.06815075084276827), ((1, 37), 0.8154666003549214), ((1, 38), 0.013863763405988244), ((1, 39), 0.8019356206290918), ((0, 0), 0.1436810999742004), ((0, 1), 0.21523570119968805), ((0, 2), 0.5383246924645465), ((0, 3), 0.3551776258764873), ((0, 4), 0.1924037068302918), ((0, 5), 0.5155359571110104), ((0, 6), 0.5663495715487078), ((0, 7), 0.3690347750460499), ((0, 8), 0.268159346602512), ((0, 9), 0.19186311783945675), ((0, 10), 0.47201339270548737), ((0, 11), 0.367626616937767), ((0, 12), 0.09466140585093558), ((0, 13), 0.29239271202757755), ((0, 14), 0.04553138807345007), ((0, 15), 0.33012911714440596), ((0, 16), 0.08278394410420219), ((0, 17), 0.5317639309968559), ((0, 18), 0.19016697822129255), ((0, 19), 0.516901614942666), ((0, 20), 0.2593163163607464), ((0, 21), 0.44203064643013706), ((0, 22), 0.23226774373466194), ((0, 23), 0.1263909652886365), ((0, 24), 0.22514073249277178), ((0, 25), 0.22241032984612719), ((0, 26), 0.05053748143344837), ((0, 27), 0.40184568992917147), ((0, 28), 0.17570562028693082), ((0, 29), 0.12592251456073514), ((0, 30), 0.5537081703038951), ((0, 31), 0.3290546171240934), ((0, 32), 0.006310260161439905), ((0, 33), 0.31506510116933123), ((0, 34), 0.08260651765619852), ((0, 35), 0.4557045979236227), ((0, 36), 0.20221601317320828), ((0, 37), 0.39912916775001805), ((0, 38), 0.45796653678100907), ((0, 39), 0.034950056166766226), ((1, 0), 0.16093071472841777), ((1, 1), 0.24107579379165128), ((1, 2), 0.6029531895971783), ((1, 3), 0.3978184270450966), ((1, 4), 0.21550270746921968), ((1, 5), 0.5774285557458236), ((1, 6), 0.6343425916966986), ((1, 7), 0.41333919435796135), ((1, 8), 0.3003531801858196), ((1, 9), 0.21489721814122165), ((1, 10), 0.5286808958389042), ((1, 11), 0.41176198002109116), ((1, 12), 0.10602596794932193), ((1, 13), 0.3274958789738369), ((1, 14), 0.05099765262482676), ((1, 15), 0.36976272303212143), ((1, 16), 0.092722559161357), ((1, 17), 0.5956047768111702), ((1, 18), 0.2129974487137927), ((1, 19), 0.5789581674411841), ((1, 20), 0.29044850116103565), ((1, 21), 0.4950985750710416), ((1, 22), 0.26015261585753424), ((1, 23), 0.14156481529419826), ((1, 24), 0.2521699722583357), ((1, 25), 0.24911177149637204), ((1, 26), 0.05660475183666725), ((1, 27), 0.4500892191279705), ((1, 28), 0.1967999344357269), ((1, 29), 0.141040124778398), ((1, 30), 0.6201835287589724), ((1, 31), 0.3685592240592179), ((1, 32), 0.007067837579786988), ((1, 33), 0.3528901986849081), ((1, 34), 0.09252383180546897), ((1, 35), 0.5104141509359501), ((1, 36), 0.22649302890456005), ((1, 37), 0.44704656525111924), ((1, 38), 0.5129476465526772), ((1, 39), 0.039145980367118464)])\n",
            "aa (1, [((0, 0), 0.1754012917760284), ((0, 1), 0.6595998568699044), ((0, 2), 0.6401525032000557), ((0, 3), 0.0875029290715809), ((0, 4), 0.6899490939243034), ((0, 5), 0.5236690312483089), ((0, 6), 0.6663724455790851), ((0, 7), 0.315084281631839), ((0, 8), 0.7075802719436703), ((0, 9), 0.5321947806001847), ((0, 10), 0.7250696191814113), ((0, 11), 0.6481086231972076), ((0, 12), 0.5330390785684098), ((0, 13), 0.7131223814518578), ((0, 14), 0.7237765384099905), ((0, 15), 0.2270897005807275), ((0, 16), 0.2764703032273927), ((0, 17), 0.171904698856381), ((0, 18), 0.37194987387044787), ((0, 19), 0.4199243491027778), ((0, 20), 0.5211757197469464), ((0, 21), 0.606335494922425), ((0, 22), 0.14017007391052552), ((0, 23), 0.5313134238274347), ((0, 24), 0.009272639245594105), ((0, 25), 0.5642419893386005), ((0, 26), 0.21629287835025712), ((0, 27), 0.49604400937833115), ((0, 28), 0.4166557624993844), ((0, 29), 0.12857372672330597), ((0, 30), 0.35396895990114946), ((0, 31), 0.2993075645151126), ((0, 32), 0.5854797214900391), ((0, 33), 0.0757100022589517), ((0, 34), 0.45662326541539755), ((0, 35), 0.2680411205691758), ((0, 36), 0.3028601572333395), ((0, 37), 0.6564859679064622), ((0, 38), 0.24243968588764653), ((0, 39), 0.5344144888084986), ((1, 0), 0.18499994647440288), ((1, 1), 0.6956957784055104), ((1, 2), 0.6751841883735236), ((1, 3), 0.09229143657200997), ((1, 4), 0.7277058461407704), ((1, 5), 0.5523262786168357), ((1, 6), 0.7028389900432642), ((1, 7), 0.33232694381320577), ((1, 8), 0.7463018721838883), ((1, 9), 0.561318590804395), ((1, 10), 0.7647483059022091), ((1, 11), 0.683575698827714), ((1, 12), 0.5622090921077123), ((1, 13), 0.7521472679160884), ((1, 14), 0.7633844626198836), ((1, 15), 0.239516950114414), ((1, 16), 0.29159985528578475), ((1, 17), 0.1813120061153117), ((1, 18), 0.39230444690828625), ((1, 19), 0.442904275793535), ((1, 20), 0.5496965232163735), ((1, 21), 0.6395165792131837), ((1, 22), 0.14784073656579705), ((1, 23), 0.5603890026917155), ((1, 24), 0.009780074860006253), ((1, 25), 0.595119549971967), ((1, 26), 0.2281292829284666), ((1, 27), 0.523189505930886), ((1, 28), 0.4394568191610783), ((1, 29), 0.1356097912448607), ((1, 30), 0.3733395459762644), ((1, 31), 0.31568686213203384), ((1, 32), 0.617519495100483), ((1, 33), 0.07985315400851112), ((1, 34), 0.48161150243227924), ((1, 35), 0.28270939430454917), ((1, 36), 0.3194338668208964), ((1, 37), 0.692411485081721), ((1, 38), 0.25570694752782525), ((1, 39), 0.5636597702539238)])\n",
            "240 key-value pairs were sent over a network.\n",
            "[(0, [((0, 1), 1.0343380773498323), ((0, 2), 1.3728614049139811), ((0, 4), 1.1615019997523208), ((0, 5), 1.2611338533953915), ((0, 8), 1.2417042087644823), ((0, 9), 1.002767456345134), ((0, 11), 1.1930225404787587), ((0, 12), 0.714441783955584), ((0, 15), 0.6701908007124067), ((0, 16), 0.572129209679999), ((0, 18), 0.643672424057868), ((0, 19), 0.9947202046965256), ((0, 22), 0.5170337191753497), ((0, 23), 0.6610341254640444), ((0, 25), 0.8089322494437834), ((0, 26), 0.5189857462122585), ((0, 29), 0.27907923383706473), ((0, 32), 0.6245364805321916), ((0, 33), 0.5148582738866788), ((0, 36), 0.5283340047952564), ((0, 39), 0.8430414395707243), ((1, 0), 0.6799588091238884), ((1, 1), 1.4041502742975949), ((1, 3), 0.6642461133853952), ((1, 4), 1.7611792722461301), ((1, 7), 0.78929167085724), ((1, 10), 1.4624194810839797), ((1, 11), 1.614829839270328), ((1, 14), 1.2666363455342111), ((1, 17), 1.2830190456346313), ((1, 18), 0.8442782926507455), ((1, 21), 1.5059676938448971), ((1, 24), 0.5677401747741522), ((1, 25), 0.9095165905308931), ((1, 27), 1.2206149947353726), ((1, 28), 1.2056941310619735), ((1, 31), 1.4119222436645746), ((1, 32), 0.7205420311656924), ((1, 34), 0.7426764069085846), ((1, 35), 1.0727342671394726), ((1, 38), 0.7825183574864907), ((1, 39), 1.4047413712501342)]), (1, [((0, 0), 0.43307631330567475), ((0, 3), 0.5021081035531534), ((0, 6), 1.378147633634676), ((0, 7), 0.6990071599164396), ((0, 10), 1.2547543930771923), ((0, 13), 1.1880032653382115), ((0, 14), 0.9236489111328013), ((0, 17), 0.8763863543721284), ((0, 20), 0.9754451874191207), ((0, 21), 1.1750977731852723), ((0, 24), 0.33877049266179), ((0, 27), 0.9822982484037421), ((0, 28), 0.7866935076132395), ((0, 30), 1.1375733887298227), ((0, 31), 0.876696519116609), ((0, 34), 0.5967478633186838), ((0, 35), 0.8191685829926643), ((0, 37), 1.3339097531924597), ((0, 38), 0.705137514830713), ((1, 2), 1.8477273746539011), ((1, 5), 1.7800569447446342), ((1, 6), 1.7633117532372777), ((1, 8), 1.8259918649908384), ((1, 9), 1.592898279070039), ((1, 12), 0.9224068197176012), ((1, 13), 1.6143750451503054), ((1, 15), 0.9403133083553631), ((1, 16), 1.008094528273569), ((1, 19), 1.1915057515454295), ((1, 20), 1.4114021508572452), ((1, 22), 0.8316922701029443), ((1, 23), 0.7117107037058069), ((1, 26), 1.0236067357633458), ((1, 29), 0.34868368204165023), ((1, 30), 1.6671714623088105), ((1, 33), 0.7963352973413836), ((1, 36), 0.6140776465682247), ((1, 37), 1.9549246506877616)])]\n",
            "[((0, 1), 1.0343380773498323), ((0, 2), 1.3728614049139811), ((0, 4), 1.1615019997523208), ((0, 5), 1.2611338533953915), ((0, 8), 1.2417042087644823), ((0, 9), 1.002767456345134), ((0, 11), 1.1930225404787587), ((0, 12), 0.714441783955584), ((0, 15), 0.6701908007124067), ((0, 16), 0.572129209679999), ((0, 18), 0.643672424057868), ((0, 19), 0.9947202046965256), ((0, 22), 0.5170337191753497), ((0, 23), 0.6610341254640444), ((0, 25), 0.8089322494437834), ((0, 26), 0.5189857462122585), ((0, 29), 0.27907923383706473), ((0, 32), 0.6245364805321916), ((0, 33), 0.5148582738866788), ((0, 36), 0.5283340047952564), ((0, 39), 0.8430414395707243), ((1, 0), 0.6799588091238884), ((1, 1), 1.4041502742975949), ((1, 3), 0.6642461133853952), ((1, 4), 1.7611792722461301), ((1, 7), 0.78929167085724), ((1, 10), 1.4624194810839797), ((1, 11), 1.614829839270328), ((1, 14), 1.2666363455342111), ((1, 17), 1.2830190456346313), ((1, 18), 0.8442782926507455), ((1, 21), 1.5059676938448971), ((1, 24), 0.5677401747741522), ((1, 25), 0.9095165905308931), ((1, 27), 1.2206149947353726), ((1, 28), 1.2056941310619735), ((1, 31), 1.4119222436645746), ((1, 32), 0.7205420311656924), ((1, 34), 0.7426764069085846), ((1, 35), 1.0727342671394726), ((1, 38), 0.7825183574864907), ((1, 39), 1.4047413712501342), ((0, 0), 0.43307631330567475), ((0, 3), 0.5021081035531534), ((0, 6), 1.378147633634676), ((0, 7), 0.6990071599164396), ((0, 10), 1.2547543930771923), ((0, 13), 1.1880032653382115), ((0, 14), 0.9236489111328013), ((0, 17), 0.8763863543721284), ((0, 20), 0.9754451874191207), ((0, 21), 1.1750977731852723), ((0, 24), 0.33877049266179), ((0, 27), 0.9822982484037421), ((0, 28), 0.7866935076132395), ((0, 30), 1.1375733887298227), ((0, 31), 0.876696519116609), ((0, 34), 0.5967478633186838), ((0, 35), 0.8191685829926643), ((0, 37), 1.3339097531924597), ((0, 38), 0.705137514830713), ((1, 2), 1.8477273746539011), ((1, 5), 1.7800569447446342), ((1, 6), 1.7633117532372777), ((1, 8), 1.8259918649908384), ((1, 9), 1.592898279070039), ((1, 12), 0.9224068197176012), ((1, 13), 1.6143750451503054), ((1, 15), 0.9403133083553631), ((1, 16), 1.008094528273569), ((1, 19), 1.1915057515454295), ((1, 20), 1.4114021508572452), ((1, 22), 0.8316922701029443), ((1, 23), 0.7117107037058069), ((1, 26), 1.0236067357633458), ((1, 29), 0.34868368204165023), ((1, 30), 1.6671714623088105), ((1, 33), 0.7963352973413836), ((1, 36), 0.6140776465682247), ((1, 37), 1.9549246506877616)]\n"
          ]
        },
        {
          "output_type": "execute_result",
          "data": {
            "text/plain": [
              "True"
            ]
          },
          "metadata": {},
          "execution_count": 115
        }
      ]
    },
    {
      "cell_type": "markdown",
      "metadata": {
        "id": "ZuSA2P9Db6UM"
      },
      "source": [
        "Обобщите предыдущее решение на случай, когда каждая матрица генерируется несколькими RECORDREADER-ами, и проверьте его работоспособность. Будет ли работать решение, если RECORDREADER-ы будут генерировать случайное подмножество элементов матрицы?"
      ]
    },
    {
      "cell_type": "code",
      "metadata": {
        "id": "ehN0FqRDcwU5",
        "colab": {
          "base_uri": "https://localhost:8080/"
        },
        "outputId": "0554f75b-496c-4760-864e-1d2d9b39bef8"
      },
      "source": [
        "# Определение размеров матриц\n",
        "I = 2  # Количество строк первой матрицы и строк в итоговой матрице\n",
        "J = 3  # Количество столбцов первой матрицы и строк второй матрицы\n",
        "K = 4*10  # Количество столбцов второй матрицы и столбцов в итоговой матрице\n",
        "\n",
        "# Генерация случайных матриц\n",
        "small_mat = np.random.rand(I, J)  # Генерация первой матрицы\n",
        "big_mat = np.random.rand(J, K)  # Генерация второй матрицы\n",
        "\n",
        "# Получение эталонного решения через умножение матриц\n",
        "reference_solution = np.matmul(small_mat, big_mat)\n",
        "\n",
        "# Функция для \"разглаживания\" вложенных итерируемых объектов\n",
        "def flatten(nested_iterable):\n",
        "  for iterable in nested_iterable:\n",
        "    for element in iterable:\n",
        "      yield element\n",
        "\n",
        "# Функция для группировки элементов по ключу\n",
        "def groupbykey(iterable):\n",
        "  t = {}\n",
        "  for (k2, v2) in iterable:\n",
        "    t[k2] = t.get(k2, []) + [v2]\n",
        "  return t.items()\n",
        "\n",
        "# Функция для распределенной группировки элементов по ключу\n",
        "def groupbykey_distributed(map_partitions, PARTITIONER):\n",
        "  global reducers\n",
        "  partitions = [dict() for _ in range(reducers)]\n",
        "  for map_partition in map_partitions:\n",
        "    for (k2, v2) in map_partition:\n",
        "      p = partitions[PARTITIONER(k2)]\n",
        "      p[k2] = p.get(k2, []) + [v2]\n",
        "  return [(partition_id, sorted(partition.items(), key=lambda x: x[0])) for (partition_id, partition) in enumerate(partitions)]\n",
        "\n",
        "# Функция для определения разделителя (по ключу)\n",
        "def PARTITIONER(obj):\n",
        "  global reducers\n",
        "  return hash(obj) % reducers\n",
        "\n",
        "# Функция для выполнения MapReduce на распределенных данных\n",
        "def MapReduceDistributed(INPUTFORMAT, MAP, REDUCE, PARTITIONER=PARTITIONER, COMBINER=None):\n",
        "  map_partitions = map(lambda record_reader: flatten(map(lambda k1v1: MAP(*k1v1), record_reader)), INPUTFORMAT())\n",
        "\n",
        "  if COMBINER != None:\n",
        "    map_partitions = map(lambda map_partition: flatten(map(lambda k2v2: COMBINER(*k2v2), groupbykey(map_partition))), map_partitions)\n",
        "\n",
        "  reduce_partitions = groupbykey_distributed(map_partitions, PARTITIONER)  # shuffle\n",
        "\n",
        "  reduce_outputs = map(lambda reduce_partition: (reduce_partition[0], flatten(map(lambda reduce_input_group: REDUCE(*reduce_input_group), reduce_partition[1]))), reduce_partitions)\n",
        "\n",
        "  print(\"{} key-value pairs were sent over a network.\".format(sum([len(vs) for (k,vs) in flatten([partition for (partition_id, partition) in reduce_partitions])])))\n",
        "  return reduce_outputs\n",
        "\n",
        "# Функция для преобразования результата REDUCE в матрицу\n",
        "def asmatrix(reduce_output):\n",
        "  reduce_output = list(reduce_output)\n",
        "  I = max(i for ((i,k), vw) in reduce_output) + 1\n",
        "  K = max(k for ((i,k), vw) in reduce_output) + 1\n",
        "  mat = np.empty(shape=(I,K))\n",
        "  for ((i,k), vw) in reduce_output:\n",
        "    mat[i,k] = vw\n",
        "  return mat\n",
        "\n",
        "# Генератор для вводных данных\n",
        "def INPUTFORMAT():\n",
        "  first_mat = []\n",
        "\n",
        "  for i in range(small_mat.shape[0]):\n",
        "    for j in range(small_mat.shape[1]):\n",
        "      first_mat.append(((0, i, j), small_mat[i,j]))  # первая матрица\n",
        "\n",
        "  global maps\n",
        "  split_size = int(np.ceil(len(first_mat)/maps))\n",
        "\n",
        "  for i in range(0, len(first_mat), split_size):\n",
        "    yield first_mat[i:i+split_size]\n",
        "\n",
        "  second_mat = []\n",
        "\n",
        "  for j in range(big_mat.shape[0]):\n",
        "    for k in range(big_mat.shape[1]):\n",
        "      second_mat.append(((1, j, k), big_mat[j,k]))  # вторая матрица\n",
        "\n",
        "  split_size = int(np.ceil(len(second_mat)/maps))\n",
        "\n",
        "  for i in range(0, len(second_mat), split_size):\n",
        "    yield second_mat[i:i+split_size]\n",
        "\n",
        "# MAP функция для соединения матриц\n",
        "def MAP_JOIN(k1, v1):\n",
        "  (mat_num, i, j) = k1\n",
        "  w = v1\n",
        "\n",
        "  if mat_num == 0:\n",
        "    yield (j, (mat_num, i, w))\n",
        "\n",
        "  else:\n",
        "    yield (i, (mat_num, j, w))\n",
        "\n",
        "# REDUCE функция для соединения матриц\n",
        "def REDUCE_JOIN(key, values):\n",
        "  from_first_mat = [v for v in values if v[0] == 0]\n",
        "  from_second_mat = [v for v in values if v[0] == 1]\n",
        "\n",
        "  for f in from_first_mat:\n",
        "    for s in from_second_mat:\n",
        "      yield ((f[1], s[1]), f[2] * s[2])\n",
        "\n",
        "# Генератор для получения соединенных данных\n",
        "def GET_JOINED():\n",
        "\n",
        "  for j in joined:\n",
        "    print(\"aa\", j)\n",
        "    yield j[1]\n",
        "\n",
        "# MAP функция для умножения значений\n",
        "def MAP_MUL(k1, v1):\n",
        "  yield (k1, v1)\n",
        "\n",
        "# REDUCE функция для умножения значений\n",
        "def REDUCE_MUL(key, values):\n",
        "  res_val = 0\n",
        "\n",
        "  for v in values:\n",
        "    res_val += v\n",
        "  yield (key, res_val)\n",
        "\n",
        "maps = 3\n",
        "reducers = 2\n",
        "\n",
        "# Выполнение MapReduce для соединения матриц\n",
        "partitioned_output = MapReduceDistributed(INPUTFORMAT, MAP_JOIN, REDUCE_JOIN, COMBINER=None)\n",
        "joined = [(partition_id, list(partition)) for (partition_id, partition) in partitioned_output]\n",
        "print(joined)\n",
        "\n",
        "# Выполнение MapReduce для умножения значений\n",
        "mul_output = MapReduceDistributed(GET_JOINED, MAP_MUL, REDUCE_MUL, COMBINER=None)\n",
        "pre_result = [(partition_id, list(partition)) for (partition_id, partition) in mul_output]\n",
        "print(pre_result)\n",
        "\n",
        "solution = []\n",
        "\n",
        "for p in pre_result:\n",
        "\n",
        "  for v in p[1]:\n",
        "    solution.append(v)\n",
        "\n",
        "print(solution)\n",
        "\n",
        "np.allclose(reference_solution, asmatrix(solution))"
      ],
      "execution_count": 116,
      "outputs": [
        {
          "output_type": "stream",
          "name": "stdout",
          "text": [
            "126 key-value pairs were sent over a network.\n",
            "[(0, [((0, 0), 0.05010223677944977), ((0, 1), 0.16366898600078136), ((0, 2), 0.30741520961301577), ((0, 3), 0.14213181277240877), ((0, 4), 0.053429293125621044), ((0, 5), 0.098912508203895), ((0, 6), 0.14942958539604992), ((0, 7), 0.20307807860349536), ((0, 8), 0.18265285871753956), ((0, 9), 0.29710062689640365), ((0, 10), 0.07168080551232588), ((0, 11), 0.2746656534406432), ((0, 12), 0.07650670684685357), ((0, 13), 0.22479787779068441), ((0, 14), 0.08762817539169078), ((0, 15), 0.15061880162307417), ((0, 16), 0.09529717911429557), ((0, 17), 0.002869936708947776), ((0, 18), 0.1368165245132204), ((0, 19), 0.23005614074623984), ((0, 20), 0.10414672057201001), ((0, 21), 0.09689653251997345), ((0, 22), 0.183209760337586), ((0, 23), 0.2917676641532048), ((0, 24), 0.04527800220611101), ((0, 25), 0.2663251671949846), ((0, 26), 0.14101811235728176), ((0, 27), 0.216391904186484), ((0, 28), 0.16728231241816816), ((0, 29), 0.2698992583944133), ((0, 30), 0.19970230372342715), ((0, 31), 0.2610877333314999), ((0, 32), 0.15463572771769402), ((0, 33), 0.20241476728911512), ((0, 34), 0.13723296952749078), ((0, 35), 0.028677527155390244), ((0, 36), 0.29208419765076626), ((0, 37), 0.04877220267049869), ((0, 38), 0.23607031625424463), ((0, 39), 0.1650165038437506), ((1, 0), 0.017350985200457438), ((1, 1), 0.056680466510394), ((1, 2), 0.10646144953310278), ((1, 3), 0.049221893840471674), ((1, 4), 0.01850318336832813), ((1, 5), 0.034254547826691954), ((1, 6), 0.051749197069397325), ((1, 7), 0.07032829196623498), ((1, 8), 0.06325480162452893), ((1, 9), 0.10288939000904102), ((1, 10), 0.024823893613296143), ((1, 11), 0.09511989871632452), ((1, 12), 0.02649515916981921), ((1, 13), 0.07785011012203437), ((1, 14), 0.030346652606694516), ((1, 15), 0.05216103642990478), ((1, 16), 0.03300251746715814), ((1, 17), 0.0009938923402243612), ((1, 18), 0.04738114792073721), ((1, 19), 0.07967110751828989), ((1, 20), 0.03606721622580953), ((1, 21), 0.033556392085458624), ((1, 22), 0.06344766310913832), ((1, 23), 0.1010425232106751), ((1, 24), 0.015680296862649157), ((1, 25), 0.09223149167673307), ((1, 26), 0.04883620648073012), ((1, 27), 0.0749390240512875), ((1, 28), 0.05793180332133285), ((1, 29), 0.09346924087702044), ((1, 30), 0.06915922200550692), ((1, 31), 0.09041770763643706), ((1, 32), 0.05355214448613567), ((1, 33), 0.07009857957136185), ((1, 34), 0.0475253676551019), ((1, 35), 0.009931359979979659), ((1, 36), 0.10115214242899093), ((1, 37), 0.016890378975587667), ((1, 38), 0.08175388619126016), ((1, 39), 0.05714712755496241), ((0, 0), 0.5523147482162443), ((0, 1), 0.55652671392266), ((0, 2), 0.2484248486975714), ((0, 3), 0.4908692812554856), ((0, 4), 0.2928117075990562), ((0, 5), 0.09766530839753443), ((0, 6), 0.3312499866244894), ((0, 7), 0.5600528241437391), ((0, 8), 0.09937500371469998), ((0, 9), 0.5850393209797891), ((0, 10), 0.2237408864700151), ((0, 11), 0.009411072862206544), ((0, 12), 0.396217445163107), ((0, 13), 0.32132868956459737), ((0, 14), 0.5030097208308258), ((0, 15), 0.050806652475695734), ((0, 16), 0.5515818509326862), ((0, 17), 0.29295741711932416), ((0, 18), 0.06988258900039901), ((0, 19), 0.5401745498898379), ((0, 20), 0.23332771753347692), ((0, 21), 0.6038450873431802), ((0, 22), 0.6638676646379724), ((0, 23), 0.18721202803887807), ((0, 24), 0.5748431776860593), ((0, 25), 0.21773238912703194), ((0, 26), 0.5510611540419924), ((0, 27), 0.30536987204945093), ((0, 28), 0.5598957195692114), ((0, 29), 0.5590224830035047), ((0, 30), 0.3513865314180843), ((0, 31), 0.5880736521080996), ((0, 32), 0.5893248304286678), ((0, 33), 0.3321984443057239), ((0, 34), 0.07142499009597382), ((0, 35), 0.2774837731355417), ((0, 36), 0.543299614744046), ((0, 37), 0.03314486453158558), ((0, 38), 0.4053235875105087), ((0, 39), 0.07076542858281402), ((1, 0), 0.17672847964200233), ((1, 1), 0.17807621532714046), ((1, 2), 0.07949044626711092), ((1, 3), 0.1570672919008846), ((1, 4), 0.09369325746322299), ((1, 5), 0.03125073433691065), ((1, 6), 0.10599265492483159), ((1, 7), 0.17920449245613984), ((1, 8), 0.03179779895003125), ((1, 9), 0.1871996177206311), ((1, 10), 0.07159212537290102), ((1, 11), 0.0030113347581417218), ((1, 12), 0.12678080192039107), ((1, 13), 0.10281805973045359), ((1, 14), 0.16095196352202956), ((1, 15), 0.016257002871510863), ((1, 16), 0.17649396875292092), ((1, 17), 0.09373988128065586), ((1, 18), 0.022360879819656784), ((1, 19), 0.17284388521516994), ((1, 20), 0.07465969886048601), ((1, 21), 0.19321704620436875), ((1, 22), 0.2124229407848807), ((1, 23), 0.059903700187004603), ((1, 24), 0.18393707782226257), ((1, 25), 0.06966953937680397), ((1, 26), 0.17632735728700621), ((1, 27), 0.09771159178722977), ((1, 28), 0.1791542224738684), ((1, 29), 0.178874806124543), ((1, 30), 0.11243590301499808), ((1, 31), 0.1881705364382076), ((1, 32), 0.18857088577356246), ((1, 33), 0.1062961403641589), ((1, 34), 0.02285441398925743), ((1, 35), 0.08878865811559053), ((1, 36), 0.1738438367142934), ((1, 37), 0.010605622130361514), ((1, 38), 0.12969456567132728), ((1, 39), 0.02264336892151741)]), (1, [((0, 0), 0.7759204915301184), ((0, 1), 0.4692762781742158), ((0, 2), 0.8400784822756073), ((0, 3), 0.15582272488748308), ((0, 4), 0.030626614650234252), ((0, 5), 0.15133123183351913), ((0, 6), 0.08773430861737079), ((0, 7), 0.8497305070844516), ((0, 8), 0.7633290971823693), ((0, 9), 0.09495670610663005), ((0, 10), 0.8731253213433546), ((0, 11), 0.053674161010242596), ((0, 12), 0.16296790381409432), ((0, 13), 0.006389554916495292), ((0, 14), 0.10109075007358012), ((0, 15), 0.5036342947201912), ((0, 16), 0.3156218600064716), ((0, 17), 0.7867271996246084), ((0, 18), 0.7705117027099638), ((0, 19), 0.7911462397726052), ((0, 20), 0.05591749014444054), ((0, 21), 0.36722570299222435), ((0, 22), 0.4686788096395435), ((0, 23), 0.007345471349875286), ((0, 24), 0.4970940834921276), ((0, 25), 0.8141928528100177), ((0, 26), 0.4084418431112995), ((0, 27), 0.19808169954081575), ((0, 28), 0.18192259339721412), ((0, 29), 0.758586449621146), ((0, 30), 0.09773685023501161), ((0, 31), 0.3845847578960741), ((0, 32), 0.20792828141785638), ((0, 33), 0.6203361716522551), ((0, 34), 0.792381733326975), ((0, 35), 0.42274246473424243), ((0, 36), 0.38228207975144296), ((0, 37), 0.636222476974107), ((0, 38), 0.17423603105288887), ((0, 39), 0.30129858845441937), ((1, 0), 0.7703928679481862), ((1, 1), 0.4659331745315193), ((1, 2), 0.8340937999789158), ((1, 3), 0.15471265062331402), ((1, 4), 0.030408431989480515), ((1, 5), 0.15025315476905568), ((1, 6), 0.0871092932471728), ((1, 7), 0.8436770641859598), ((1, 8), 0.7578911741420334), ((1, 9), 0.09428023869319373), ((1, 10), 0.8669052148132097), ((1, 11), 0.05329178863913074), ((1, 12), 0.16180692760834361), ((1, 13), 0.006344036007251355), ((1, 14), 0.10037058399970829), ((1, 15), 0.5000464260731403), ((1, 16), 0.3133733837058848), ((1, 17), 0.7811225895277455), ((1, 18), 0.765022611102581), ((1, 19), 0.785510148627364), ((1, 20), 0.05551913639487614), ((1, 21), 0.36460960317541385), ((1, 22), 0.46533996233650776), ((1, 23), 0.007293142533846843), ((1, 24), 0.49355280702328275), ((1, 25), 0.8083925786033677), ((1, 26), 0.40553212131831307), ((1, 27), 0.1966705741929443), ((1, 28), 0.18062658481344068), ((1, 29), 0.7531823129942202), ((1, 30), 0.09704057719662663), ((1, 31), 0.38184499293277757), ((1, 32), 0.20644700945215605), ((1, 33), 0.6159169239476499), ((1, 34), 0.78673684057979), ((1, 35), 0.419730865939447), ((1, 36), 0.3795587189663487), ((1, 37), 0.6316900559265042), ((1, 38), 0.17299478120244224), ((1, 39), 0.2991521505127441)])]\n",
            "aa (0, [((0, 0), 0.05010223677944977), ((0, 1), 0.16366898600078136), ((0, 2), 0.30741520961301577), ((0, 3), 0.14213181277240877), ((0, 4), 0.053429293125621044), ((0, 5), 0.098912508203895), ((0, 6), 0.14942958539604992), ((0, 7), 0.20307807860349536), ((0, 8), 0.18265285871753956), ((0, 9), 0.29710062689640365), ((0, 10), 0.07168080551232588), ((0, 11), 0.2746656534406432), ((0, 12), 0.07650670684685357), ((0, 13), 0.22479787779068441), ((0, 14), 0.08762817539169078), ((0, 15), 0.15061880162307417), ((0, 16), 0.09529717911429557), ((0, 17), 0.002869936708947776), ((0, 18), 0.1368165245132204), ((0, 19), 0.23005614074623984), ((0, 20), 0.10414672057201001), ((0, 21), 0.09689653251997345), ((0, 22), 0.183209760337586), ((0, 23), 0.2917676641532048), ((0, 24), 0.04527800220611101), ((0, 25), 0.2663251671949846), ((0, 26), 0.14101811235728176), ((0, 27), 0.216391904186484), ((0, 28), 0.16728231241816816), ((0, 29), 0.2698992583944133), ((0, 30), 0.19970230372342715), ((0, 31), 0.2610877333314999), ((0, 32), 0.15463572771769402), ((0, 33), 0.20241476728911512), ((0, 34), 0.13723296952749078), ((0, 35), 0.028677527155390244), ((0, 36), 0.29208419765076626), ((0, 37), 0.04877220267049869), ((0, 38), 0.23607031625424463), ((0, 39), 0.1650165038437506), ((1, 0), 0.017350985200457438), ((1, 1), 0.056680466510394), ((1, 2), 0.10646144953310278), ((1, 3), 0.049221893840471674), ((1, 4), 0.01850318336832813), ((1, 5), 0.034254547826691954), ((1, 6), 0.051749197069397325), ((1, 7), 0.07032829196623498), ((1, 8), 0.06325480162452893), ((1, 9), 0.10288939000904102), ((1, 10), 0.024823893613296143), ((1, 11), 0.09511989871632452), ((1, 12), 0.02649515916981921), ((1, 13), 0.07785011012203437), ((1, 14), 0.030346652606694516), ((1, 15), 0.05216103642990478), ((1, 16), 0.03300251746715814), ((1, 17), 0.0009938923402243612), ((1, 18), 0.04738114792073721), ((1, 19), 0.07967110751828989), ((1, 20), 0.03606721622580953), ((1, 21), 0.033556392085458624), ((1, 22), 0.06344766310913832), ((1, 23), 0.1010425232106751), ((1, 24), 0.015680296862649157), ((1, 25), 0.09223149167673307), ((1, 26), 0.04883620648073012), ((1, 27), 0.0749390240512875), ((1, 28), 0.05793180332133285), ((1, 29), 0.09346924087702044), ((1, 30), 0.06915922200550692), ((1, 31), 0.09041770763643706), ((1, 32), 0.05355214448613567), ((1, 33), 0.07009857957136185), ((1, 34), 0.0475253676551019), ((1, 35), 0.009931359979979659), ((1, 36), 0.10115214242899093), ((1, 37), 0.016890378975587667), ((1, 38), 0.08175388619126016), ((1, 39), 0.05714712755496241), ((0, 0), 0.5523147482162443), ((0, 1), 0.55652671392266), ((0, 2), 0.2484248486975714), ((0, 3), 0.4908692812554856), ((0, 4), 0.2928117075990562), ((0, 5), 0.09766530839753443), ((0, 6), 0.3312499866244894), ((0, 7), 0.5600528241437391), ((0, 8), 0.09937500371469998), ((0, 9), 0.5850393209797891), ((0, 10), 0.2237408864700151), ((0, 11), 0.009411072862206544), ((0, 12), 0.396217445163107), ((0, 13), 0.32132868956459737), ((0, 14), 0.5030097208308258), ((0, 15), 0.050806652475695734), ((0, 16), 0.5515818509326862), ((0, 17), 0.29295741711932416), ((0, 18), 0.06988258900039901), ((0, 19), 0.5401745498898379), ((0, 20), 0.23332771753347692), ((0, 21), 0.6038450873431802), ((0, 22), 0.6638676646379724), ((0, 23), 0.18721202803887807), ((0, 24), 0.5748431776860593), ((0, 25), 0.21773238912703194), ((0, 26), 0.5510611540419924), ((0, 27), 0.30536987204945093), ((0, 28), 0.5598957195692114), ((0, 29), 0.5590224830035047), ((0, 30), 0.3513865314180843), ((0, 31), 0.5880736521080996), ((0, 32), 0.5893248304286678), ((0, 33), 0.3321984443057239), ((0, 34), 0.07142499009597382), ((0, 35), 0.2774837731355417), ((0, 36), 0.543299614744046), ((0, 37), 0.03314486453158558), ((0, 38), 0.4053235875105087), ((0, 39), 0.07076542858281402), ((1, 0), 0.17672847964200233), ((1, 1), 0.17807621532714046), ((1, 2), 0.07949044626711092), ((1, 3), 0.1570672919008846), ((1, 4), 0.09369325746322299), ((1, 5), 0.03125073433691065), ((1, 6), 0.10599265492483159), ((1, 7), 0.17920449245613984), ((1, 8), 0.03179779895003125), ((1, 9), 0.1871996177206311), ((1, 10), 0.07159212537290102), ((1, 11), 0.0030113347581417218), ((1, 12), 0.12678080192039107), ((1, 13), 0.10281805973045359), ((1, 14), 0.16095196352202956), ((1, 15), 0.016257002871510863), ((1, 16), 0.17649396875292092), ((1, 17), 0.09373988128065586), ((1, 18), 0.022360879819656784), ((1, 19), 0.17284388521516994), ((1, 20), 0.07465969886048601), ((1, 21), 0.19321704620436875), ((1, 22), 0.2124229407848807), ((1, 23), 0.059903700187004603), ((1, 24), 0.18393707782226257), ((1, 25), 0.06966953937680397), ((1, 26), 0.17632735728700621), ((1, 27), 0.09771159178722977), ((1, 28), 0.1791542224738684), ((1, 29), 0.178874806124543), ((1, 30), 0.11243590301499808), ((1, 31), 0.1881705364382076), ((1, 32), 0.18857088577356246), ((1, 33), 0.1062961403641589), ((1, 34), 0.02285441398925743), ((1, 35), 0.08878865811559053), ((1, 36), 0.1738438367142934), ((1, 37), 0.010605622130361514), ((1, 38), 0.12969456567132728), ((1, 39), 0.02264336892151741)])\n",
            "aa (1, [((0, 0), 0.7759204915301184), ((0, 1), 0.4692762781742158), ((0, 2), 0.8400784822756073), ((0, 3), 0.15582272488748308), ((0, 4), 0.030626614650234252), ((0, 5), 0.15133123183351913), ((0, 6), 0.08773430861737079), ((0, 7), 0.8497305070844516), ((0, 8), 0.7633290971823693), ((0, 9), 0.09495670610663005), ((0, 10), 0.8731253213433546), ((0, 11), 0.053674161010242596), ((0, 12), 0.16296790381409432), ((0, 13), 0.006389554916495292), ((0, 14), 0.10109075007358012), ((0, 15), 0.5036342947201912), ((0, 16), 0.3156218600064716), ((0, 17), 0.7867271996246084), ((0, 18), 0.7705117027099638), ((0, 19), 0.7911462397726052), ((0, 20), 0.05591749014444054), ((0, 21), 0.36722570299222435), ((0, 22), 0.4686788096395435), ((0, 23), 0.007345471349875286), ((0, 24), 0.4970940834921276), ((0, 25), 0.8141928528100177), ((0, 26), 0.4084418431112995), ((0, 27), 0.19808169954081575), ((0, 28), 0.18192259339721412), ((0, 29), 0.758586449621146), ((0, 30), 0.09773685023501161), ((0, 31), 0.3845847578960741), ((0, 32), 0.20792828141785638), ((0, 33), 0.6203361716522551), ((0, 34), 0.792381733326975), ((0, 35), 0.42274246473424243), ((0, 36), 0.38228207975144296), ((0, 37), 0.636222476974107), ((0, 38), 0.17423603105288887), ((0, 39), 0.30129858845441937), ((1, 0), 0.7703928679481862), ((1, 1), 0.4659331745315193), ((1, 2), 0.8340937999789158), ((1, 3), 0.15471265062331402), ((1, 4), 0.030408431989480515), ((1, 5), 0.15025315476905568), ((1, 6), 0.0871092932471728), ((1, 7), 0.8436770641859598), ((1, 8), 0.7578911741420334), ((1, 9), 0.09428023869319373), ((1, 10), 0.8669052148132097), ((1, 11), 0.05329178863913074), ((1, 12), 0.16180692760834361), ((1, 13), 0.006344036007251355), ((1, 14), 0.10037058399970829), ((1, 15), 0.5000464260731403), ((1, 16), 0.3133733837058848), ((1, 17), 0.7811225895277455), ((1, 18), 0.765022611102581), ((1, 19), 0.785510148627364), ((1, 20), 0.05551913639487614), ((1, 21), 0.36460960317541385), ((1, 22), 0.46533996233650776), ((1, 23), 0.007293142533846843), ((1, 24), 0.49355280702328275), ((1, 25), 0.8083925786033677), ((1, 26), 0.40553212131831307), ((1, 27), 0.1966705741929443), ((1, 28), 0.18062658481344068), ((1, 29), 0.7531823129942202), ((1, 30), 0.09704057719662663), ((1, 31), 0.38184499293277757), ((1, 32), 0.20644700945215605), ((1, 33), 0.6159169239476499), ((1, 34), 0.78673684057979), ((1, 35), 0.419730865939447), ((1, 36), 0.3795587189663487), ((1, 37), 0.6316900559265042), ((1, 38), 0.17299478120244224), ((1, 39), 0.2991521505127441)])\n",
            "240 key-value pairs were sent over a network.\n",
            "[(0, [((0, 1), 1.1894719780976573), ((0, 2), 1.3959185405861945), ((0, 4), 0.37686761537491154), ((0, 5), 0.3479090484349485), ((0, 8), 1.0453569596146088), ((0, 9), 0.9770966539828227), ((0, 11), 0.33775088731309233), ((0, 12), 0.6356920558240549), ((0, 15), 0.705059748818961), ((0, 16), 0.9625008900534533), ((0, 18), 0.9772108162235833), ((0, 19), 1.561376930408683), ((0, 22), 1.315756234615102), ((0, 23), 0.4863251635419582), ((0, 25), 1.2982504091320344), ((0, 26), 1.1005211095105736), ((0, 29), 1.5875081910190638), ((0, 32), 0.9518888395642181), ((0, 33), 1.154949383247094), ((0, 36), 1.2176658921462553), ((0, 39), 0.537080520880984), ((1, 0), 0.9644723327906459), ((1, 1), 0.7006898563690538), ((1, 3), 0.3610018363646703), ((1, 4), 0.14260487282103163), ((1, 7), 1.0932098486083346), ((1, 10), 0.9633212337994068), ((1, 11), 0.15142302211359698), ((1, 14), 0.29166920012843234), ((1, 17), 0.8758563631486257), ((1, 18), 0.8347646388429749), ((1, 21), 0.5913830414652412), ((1, 24), 0.6931701817081944), ((1, 25), 0.9702936096569047), ((1, 27), 0.3693211900314616), ((1, 28), 0.41771261060864195), ((1, 31), 0.6604332370074222), ((1, 32), 0.44857003971185416), ((1, 34), 0.8571166222241493), ((1, 35), 0.5184508840350172), ((1, 38), 0.3844432330650297), ((1, 39), 0.37894264698922386)]), (1, [((0, 0), 1.3783374765258125), ((0, 3), 0.7888238189153775), ((0, 6), 0.5684138806379101), ((0, 7), 1.612861409831686), ((0, 10), 1.1685470133256957), ((0, 13), 0.552516122271777), ((0, 14), 0.6917286462960968), ((0, 17), 1.0825545534528802), ((0, 20), 0.39339192824992747), ((0, 21), 1.0679673228553779), ((0, 24), 1.1172152633842978), ((0, 27), 0.7198434757767507), ((0, 28), 0.9091006253845937), ((0, 30), 0.6488256853765231), ((0, 31), 1.2337461433356736), ((0, 34), 1.0010396929504397), ((0, 35), 0.7289037650251744), ((0, 37), 0.7181395441761913), ((0, 38), 0.8156299348176422), ((1, 2), 1.0200456957791295), ((1, 5), 0.21575843693265828), ((1, 6), 0.24485114524140172), ((1, 8), 0.8529437747165937), ((1, 9), 0.38436924642286585), ((1, 12), 0.3150828886985539), ((1, 13), 0.18701220585973932), ((1, 15), 0.568464465374556), ((1, 16), 0.5228698699259638), ((1, 19), 1.038025141360824), ((1, 20), 0.16624605148117166), ((1, 22), 0.7412105662305268), ((1, 23), 0.16823936593152652), ((1, 26), 0.6306956850860495), ((1, 29), 1.0255263599957836), ((1, 30), 0.27863570221713163), ((1, 33), 0.7923116438831705), ((1, 36), 0.6545546981096331), ((1, 37), 0.6591860570324534)])]\n",
            "[((0, 1), 1.1894719780976573), ((0, 2), 1.3959185405861945), ((0, 4), 0.37686761537491154), ((0, 5), 0.3479090484349485), ((0, 8), 1.0453569596146088), ((0, 9), 0.9770966539828227), ((0, 11), 0.33775088731309233), ((0, 12), 0.6356920558240549), ((0, 15), 0.705059748818961), ((0, 16), 0.9625008900534533), ((0, 18), 0.9772108162235833), ((0, 19), 1.561376930408683), ((0, 22), 1.315756234615102), ((0, 23), 0.4863251635419582), ((0, 25), 1.2982504091320344), ((0, 26), 1.1005211095105736), ((0, 29), 1.5875081910190638), ((0, 32), 0.9518888395642181), ((0, 33), 1.154949383247094), ((0, 36), 1.2176658921462553), ((0, 39), 0.537080520880984), ((1, 0), 0.9644723327906459), ((1, 1), 0.7006898563690538), ((1, 3), 0.3610018363646703), ((1, 4), 0.14260487282103163), ((1, 7), 1.0932098486083346), ((1, 10), 0.9633212337994068), ((1, 11), 0.15142302211359698), ((1, 14), 0.29166920012843234), ((1, 17), 0.8758563631486257), ((1, 18), 0.8347646388429749), ((1, 21), 0.5913830414652412), ((1, 24), 0.6931701817081944), ((1, 25), 0.9702936096569047), ((1, 27), 0.3693211900314616), ((1, 28), 0.41771261060864195), ((1, 31), 0.6604332370074222), ((1, 32), 0.44857003971185416), ((1, 34), 0.8571166222241493), ((1, 35), 0.5184508840350172), ((1, 38), 0.3844432330650297), ((1, 39), 0.37894264698922386), ((0, 0), 1.3783374765258125), ((0, 3), 0.7888238189153775), ((0, 6), 0.5684138806379101), ((0, 7), 1.612861409831686), ((0, 10), 1.1685470133256957), ((0, 13), 0.552516122271777), ((0, 14), 0.6917286462960968), ((0, 17), 1.0825545534528802), ((0, 20), 0.39339192824992747), ((0, 21), 1.0679673228553779), ((0, 24), 1.1172152633842978), ((0, 27), 0.7198434757767507), ((0, 28), 0.9091006253845937), ((0, 30), 0.6488256853765231), ((0, 31), 1.2337461433356736), ((0, 34), 1.0010396929504397), ((0, 35), 0.7289037650251744), ((0, 37), 0.7181395441761913), ((0, 38), 0.8156299348176422), ((1, 2), 1.0200456957791295), ((1, 5), 0.21575843693265828), ((1, 6), 0.24485114524140172), ((1, 8), 0.8529437747165937), ((1, 9), 0.38436924642286585), ((1, 12), 0.3150828886985539), ((1, 13), 0.18701220585973932), ((1, 15), 0.568464465374556), ((1, 16), 0.5228698699259638), ((1, 19), 1.038025141360824), ((1, 20), 0.16624605148117166), ((1, 22), 0.7412105662305268), ((1, 23), 0.16823936593152652), ((1, 26), 0.6306956850860495), ((1, 29), 1.0255263599957836), ((1, 30), 0.27863570221713163), ((1, 33), 0.7923116438831705), ((1, 36), 0.6545546981096331), ((1, 37), 0.6591860570324534)]\n"
          ]
        },
        {
          "output_type": "execute_result",
          "data": {
            "text/plain": [
              "True"
            ]
          },
          "metadata": {},
          "execution_count": 116
        }
      ]
    }
  ]
}